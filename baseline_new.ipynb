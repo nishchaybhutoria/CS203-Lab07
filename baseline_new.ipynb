{
 "cells": [
  {
   "cell_type": "code",
   "execution_count": 1,
   "id": "7aed7b05",
   "metadata": {
    "execution": {
     "iopub.execute_input": "2025-03-15T05:22:43.743000Z",
     "iopub.status.busy": "2025-03-15T05:22:43.742784Z",
     "iopub.status.idle": "2025-03-15T05:22:46.177668Z",
     "shell.execute_reply": "2025-03-15T05:22:46.176780Z"
    },
    "papermill": {
     "duration": 2.440175,
     "end_time": "2025-03-15T05:22:46.179222",
     "exception": false,
     "start_time": "2025-03-15T05:22:43.739047",
     "status": "completed"
    },
    "tags": []
   },
   "outputs": [
    {
     "name": "stdout",
     "output_type": "stream",
     "text": [
      "Cloning into 'CS203-Lab07'...\r\n",
      "remote: Enumerating objects: 23, done.\u001b[K\r\n",
      "remote: Counting objects: 100% (23/23), done.\u001b[K\r\n",
      "remote: Compressing objects: 100% (18/18), done.\u001b[K\r\n",
      "remote: Total 23 (delta 6), reused 17 (delta 3), pack-reused 0 (from 0)\u001b[K\r\n",
      "Receiving objects: 100% (23/23), 26.14 MiB | 25.18 MiB/s, done.\r\n",
      "Resolving deltas: 100% (6/6), done.\r\n"
     ]
    }
   ],
   "source": [
    "!git clone https://github.com/nishchaybhutoria/CS203-Lab07"
   ]
  },
  {
   "cell_type": "code",
   "execution_count": 2,
   "id": "51b6dbb3",
   "metadata": {
    "execution": {
     "iopub.execute_input": "2025-03-15T05:22:46.186285Z",
     "iopub.status.busy": "2025-03-15T05:22:46.186053Z",
     "iopub.status.idle": "2025-03-15T05:22:46.191801Z",
     "shell.execute_reply": "2025-03-15T05:22:46.191105Z"
    },
    "papermill": {
     "duration": 0.01048,
     "end_time": "2025-03-15T05:22:46.193109",
     "exception": false,
     "start_time": "2025-03-15T05:22:46.182629",
     "status": "completed"
    },
    "tags": []
   },
   "outputs": [
    {
     "name": "stdout",
     "output_type": "stream",
     "text": [
      "/kaggle/working/CS203-Lab07\n"
     ]
    }
   ],
   "source": [
    "%cd CS203-Lab07"
   ]
  },
  {
   "cell_type": "code",
   "execution_count": 3,
   "id": "729c9560",
   "metadata": {
    "execution": {
     "iopub.execute_input": "2025-03-15T05:22:46.199523Z",
     "iopub.status.busy": "2025-03-15T05:22:46.199316Z",
     "iopub.status.idle": "2025-03-15T05:22:46.313733Z",
     "shell.execute_reply": "2025-03-15T05:22:46.312947Z"
    },
    "papermill": {
     "duration": 0.119182,
     "end_time": "2025-03-15T05:22:46.315121",
     "exception": false,
     "start_time": "2025-03-15T05:22:46.195939",
     "status": "completed"
    },
    "tags": []
   },
   "outputs": [
    {
     "name": "stdout",
     "output_type": "stream",
     "text": [
      "/kaggle/working/CS203-Lab07\r\n"
     ]
    }
   ],
   "source": [
    "!pwd"
   ]
  },
  {
   "cell_type": "code",
   "execution_count": 4,
   "id": "39548ccf",
   "metadata": {
    "_cell_guid": "b1076dfc-b9ad-4769-8c92-a6c4dae69d19",
    "_uuid": "8f2839f25d086af736a60e9eeb907d3b93b6e0e5",
    "execution": {
     "iopub.execute_input": "2025-03-15T05:22:46.321820Z",
     "iopub.status.busy": "2025-03-15T05:22:46.321598Z",
     "iopub.status.idle": "2025-03-15T05:23:08.768472Z",
     "shell.execute_reply": "2025-03-15T05:23:08.767573Z"
    },
    "papermill": {
     "duration": 22.45202,
     "end_time": "2025-03-15T05:23:08.770065",
     "exception": false,
     "start_time": "2025-03-15T05:22:46.318045",
     "status": "completed"
    },
    "tags": []
   },
   "outputs": [],
   "source": [
    "import matplotlib.pyplot as plt\n",
    "import numpy as np\n",
    "import pandas as pd\n",
    "import seaborn as sns\n",
    "from sklearn.feature_extraction.text import CountVectorizer\n",
    "from sklearn.metrics import confusion_matrix\n",
    "from sklearn.model_selection import train_test_split\n",
    "import torch\n",
    "import torch.nn as nn\n",
    "import torch.optim as optim\n",
    "from torch.utils.tensorboard import SummaryWriter\n",
    "from transformers import AutoTokenizer, AutoModel, BitsAndBytesConfig\n",
    "from torchsummary import summary\n",
    "\n",
    "%matplotlib inline"
   ]
  },
  {
   "cell_type": "code",
   "execution_count": 5,
   "id": "4b2b2e18",
   "metadata": {
    "execution": {
     "iopub.execute_input": "2025-03-15T05:23:08.777407Z",
     "iopub.status.busy": "2025-03-15T05:23:08.776903Z",
     "iopub.status.idle": "2025-03-15T05:23:08.857531Z",
     "shell.execute_reply": "2025-03-15T05:23:08.856524Z"
    },
    "papermill": {
     "duration": 0.085711,
     "end_time": "2025-03-15T05:23:08.858991",
     "exception": false,
     "start_time": "2025-03-15T05:23:08.773280",
     "status": "completed"
    },
    "tags": []
   },
   "outputs": [
    {
     "name": "stdout",
     "output_type": "stream",
     "text": [
      "Device: cuda\n",
      "PyTorch Version: 2.5.1+cu121\n",
      "CUDA Available: True\n",
      "CUDA Version: 12.1\n",
      "1\n",
      "Tesla P100-PCIE-16GB\n"
     ]
    }
   ],
   "source": [
    "writer = SummaryWriter(\"runs/cs203lab07\")\n",
    "\n",
    "torch.cuda.empty_cache()\n",
    "device = torch.device(\"cuda\" if torch.cuda.is_available() else \"cpu\")\n",
    "\n",
    "print(f\"Device: {device}\")\n",
    "print(\"PyTorch Version:\", torch.__version__)\n",
    "print(\"CUDA Available:\", torch.cuda.is_available())\n",
    "print(\"CUDA Version:\", torch.version.cuda)\n",
    "print(torch.cuda.device_count())\n",
    "print(torch.cuda.get_device_name(0))"
   ]
  },
  {
   "cell_type": "code",
   "execution_count": 6,
   "id": "22615f6f",
   "metadata": {
    "execution": {
     "iopub.execute_input": "2025-03-15T05:23:08.866071Z",
     "iopub.status.busy": "2025-03-15T05:23:08.865785Z",
     "iopub.status.idle": "2025-03-15T05:23:09.779134Z",
     "shell.execute_reply": "2025-03-15T05:23:09.778328Z"
    },
    "papermill": {
     "duration": 0.918318,
     "end_time": "2025-03-15T05:23:09.780435",
     "exception": false,
     "start_time": "2025-03-15T05:23:08.862117",
     "status": "completed"
    },
    "tags": []
   },
   "outputs": [
    {
     "data": {
      "text/plain": [
       "(5536, 2)"
      ]
     },
     "metadata": {},
     "output_type": "display_data"
    },
    {
     "data": {
      "text/plain": [
       "(1384, 2)"
      ]
     },
     "metadata": {},
     "output_type": "display_data"
    },
    {
     "data": {
      "text/plain": [
       "(1821, 2)"
      ]
     },
     "metadata": {},
     "output_type": "display_data"
    },
    {
     "data": {
      "text/plain": [
       "(80, 2)"
      ]
     },
     "metadata": {},
     "output_type": "display_data"
    },
    {
     "data": {
      "text/plain": [
       "(20, 2)"
      ]
     },
     "metadata": {},
     "output_type": "display_data"
    },
    {
     "data": {
      "text/html": [
       "<div>\n",
       "<style scoped>\n",
       "    .dataframe tbody tr th:only-of-type {\n",
       "        vertical-align: middle;\n",
       "    }\n",
       "\n",
       "    .dataframe tbody tr th {\n",
       "        vertical-align: top;\n",
       "    }\n",
       "\n",
       "    .dataframe thead th {\n",
       "        text-align: right;\n",
       "    }\n",
       "</style>\n",
       "<table border=\"1\" class=\"dataframe\">\n",
       "  <thead>\n",
       "    <tr style=\"text-align: right;\">\n",
       "      <th></th>\n",
       "      <th>0</th>\n",
       "      <th>1</th>\n",
       "    </tr>\n",
       "  </thead>\n",
       "  <tbody>\n",
       "    <tr>\n",
       "      <th>4457</th>\n",
       "      <td>graphic sex may be what 's attracting audience...</td>\n",
       "      <td>1</td>\n",
       "    </tr>\n",
       "    <tr>\n",
       "      <th>2471</th>\n",
       "      <td>perhaps the grossest movie ever made</td>\n",
       "      <td>0</td>\n",
       "    </tr>\n",
       "    <tr>\n",
       "      <th>26</th>\n",
       "      <td>the film is moody , oozing , chilling and hear...</td>\n",
       "      <td>1</td>\n",
       "    </tr>\n",
       "    <tr>\n",
       "      <th>4828</th>\n",
       "      <td>watching the chemistry between freeman and jud...</td>\n",
       "      <td>1</td>\n",
       "    </tr>\n",
       "    <tr>\n",
       "      <th>63</th>\n",
       "      <td>the wonderfully lush morvern callar is pure pu...</td>\n",
       "      <td>1</td>\n",
       "    </tr>\n",
       "  </tbody>\n",
       "</table>\n",
       "</div>"
      ],
      "text/plain": [
       "                                                      0  1\n",
       "4457  graphic sex may be what 's attracting audience...  1\n",
       "2471               perhaps the grossest movie ever made  0\n",
       "26    the film is moody , oozing , chilling and hear...  1\n",
       "4828  watching the chemistry between freeman and jud...  1\n",
       "63    the wonderfully lush morvern callar is pure pu...  1"
      ]
     },
     "metadata": {},
     "output_type": "display_data"
    },
    {
     "data": {
      "text/html": [
       "<div>\n",
       "<style scoped>\n",
       "    .dataframe tbody tr th:only-of-type {\n",
       "        vertical-align: middle;\n",
       "    }\n",
       "\n",
       "    .dataframe tbody tr th {\n",
       "        vertical-align: top;\n",
       "    }\n",
       "\n",
       "    .dataframe thead th {\n",
       "        text-align: right;\n",
       "    }\n",
       "</style>\n",
       "<table border=\"1\" class=\"dataframe\">\n",
       "  <thead>\n",
       "    <tr style=\"text-align: right;\">\n",
       "      <th></th>\n",
       "      <th>0</th>\n",
       "      <th>1</th>\n",
       "    </tr>\n",
       "  </thead>\n",
       "  <tbody>\n",
       "    <tr>\n",
       "      <th>468</th>\n",
       "      <td>overly melodramatic</td>\n",
       "      <td>0</td>\n",
       "    </tr>\n",
       "    <tr>\n",
       "      <th>1956</th>\n",
       "      <td>lrb westbrook rrb makes a wonderful subject fo...</td>\n",
       "      <td>1</td>\n",
       "    </tr>\n",
       "    <tr>\n",
       "      <th>800</th>\n",
       "      <td>mama africa pretty much delivers on that promise</td>\n",
       "      <td>1</td>\n",
       "    </tr>\n",
       "    <tr>\n",
       "      <th>6474</th>\n",
       "      <td>sad nonsense , this</td>\n",
       "      <td>0</td>\n",
       "    </tr>\n",
       "    <tr>\n",
       "      <th>2389</th>\n",
       "      <td>easily the most thoughtful fictional examinati...</td>\n",
       "      <td>1</td>\n",
       "    </tr>\n",
       "  </tbody>\n",
       "</table>\n",
       "</div>"
      ],
      "text/plain": [
       "                                                      0  1\n",
       "468                                 overly melodramatic  0\n",
       "1956  lrb westbrook rrb makes a wonderful subject fo...  1\n",
       "800    mama africa pretty much delivers on that promise  1\n",
       "6474                                sad nonsense , this  0\n",
       "2389  easily the most thoughtful fictional examinati...  1"
      ]
     },
     "metadata": {},
     "output_type": "display_data"
    },
    {
     "data": {
      "text/html": [
       "<div>\n",
       "<style scoped>\n",
       "    .dataframe tbody tr th:only-of-type {\n",
       "        vertical-align: middle;\n",
       "    }\n",
       "\n",
       "    .dataframe tbody tr th {\n",
       "        vertical-align: top;\n",
       "    }\n",
       "\n",
       "    .dataframe thead th {\n",
       "        text-align: right;\n",
       "    }\n",
       "</style>\n",
       "<table border=\"1\" class=\"dataframe\">\n",
       "  <thead>\n",
       "    <tr style=\"text-align: right;\">\n",
       "      <th></th>\n",
       "      <th>review</th>\n",
       "      <th>sentiment</th>\n",
       "    </tr>\n",
       "  </thead>\n",
       "  <tbody>\n",
       "    <tr>\n",
       "      <th>55</th>\n",
       "      <td>As someone has already mentioned on this board...</td>\n",
       "      <td>negative</td>\n",
       "    </tr>\n",
       "    <tr>\n",
       "      <th>88</th>\n",
       "      <td>Nicholas Walker is Paul, the local town Revera...</td>\n",
       "      <td>negative</td>\n",
       "    </tr>\n",
       "    <tr>\n",
       "      <th>26</th>\n",
       "      <td>\"The Cell\" is an exotic masterpiece, a dizzyin...</td>\n",
       "      <td>positive</td>\n",
       "    </tr>\n",
       "    <tr>\n",
       "      <th>42</th>\n",
       "      <td>Of all the films I have seen, this one, The Ra...</td>\n",
       "      <td>negative</td>\n",
       "    </tr>\n",
       "    <tr>\n",
       "      <th>69</th>\n",
       "      <td>This film laboured along with some of the most...</td>\n",
       "      <td>negative</td>\n",
       "    </tr>\n",
       "  </tbody>\n",
       "</table>\n",
       "</div>"
      ],
      "text/plain": [
       "                                               review sentiment\n",
       "55  As someone has already mentioned on this board...  negative\n",
       "88  Nicholas Walker is Paul, the local town Revera...  negative\n",
       "26  \"The Cell\" is an exotic masterpiece, a dizzyin...  positive\n",
       "42  Of all the films I have seen, this one, The Ra...  negative\n",
       "69  This film laboured along with some of the most...  negative"
      ]
     },
     "metadata": {},
     "output_type": "display_data"
    },
    {
     "data": {
      "text/html": [
       "<div>\n",
       "<style scoped>\n",
       "    .dataframe tbody tr th:only-of-type {\n",
       "        vertical-align: middle;\n",
       "    }\n",
       "\n",
       "    .dataframe tbody tr th {\n",
       "        vertical-align: top;\n",
       "    }\n",
       "\n",
       "    .dataframe thead th {\n",
       "        text-align: right;\n",
       "    }\n",
       "</style>\n",
       "<table border=\"1\" class=\"dataframe\">\n",
       "  <thead>\n",
       "    <tr style=\"text-align: right;\">\n",
       "      <th></th>\n",
       "      <th>review</th>\n",
       "      <th>sentiment</th>\n",
       "    </tr>\n",
       "  </thead>\n",
       "  <tbody>\n",
       "    <tr>\n",
       "      <th>83</th>\n",
       "      <td>\"Fate\" leads Walter Sparrow to come in possess...</td>\n",
       "      <td>negative</td>\n",
       "    </tr>\n",
       "    <tr>\n",
       "      <th>53</th>\n",
       "      <td>I cannot believe I enjoyed this as much as I d...</td>\n",
       "      <td>positive</td>\n",
       "    </tr>\n",
       "    <tr>\n",
       "      <th>70</th>\n",
       "      <td>Caddyshack Two is a good movie by itself but c...</td>\n",
       "      <td>negative</td>\n",
       "    </tr>\n",
       "    <tr>\n",
       "      <th>45</th>\n",
       "      <td>As a disclaimer, I've seen the movie 5-6 times...</td>\n",
       "      <td>positive</td>\n",
       "    </tr>\n",
       "    <tr>\n",
       "      <th>44</th>\n",
       "      <td>This movie struck home for me. Being 29, I rem...</td>\n",
       "      <td>positive</td>\n",
       "    </tr>\n",
       "  </tbody>\n",
       "</table>\n",
       "</div>"
      ],
      "text/plain": [
       "                                               review sentiment\n",
       "83  \"Fate\" leads Walter Sparrow to come in possess...  negative\n",
       "53  I cannot believe I enjoyed this as much as I d...  positive\n",
       "70  Caddyshack Two is a good movie by itself but c...  negative\n",
       "45  As a disclaimer, I've seen the movie 5-6 times...  positive\n",
       "44  This movie struck home for me. Being 29, I rem...  positive"
      ]
     },
     "metadata": {},
     "output_type": "display_data"
    },
    {
     "data": {
      "text/plain": [
       "tensor([0, 0, 1, 0, 0, 0, 0, 0, 1, 1, 0, 0, 0, 0, 1, 1, 0, 1, 0, 1, 0, 0, 0, 1,\n",
       "        0, 0, 0, 1, 1, 0, 0, 0, 0, 1, 0, 0, 1, 0, 0, 0, 0, 1, 0, 0, 1, 0, 0, 0,\n",
       "        0, 0, 1, 1, 1, 1, 0, 0, 1, 0, 0, 1, 0, 0, 0, 1, 1, 1, 0, 1, 0, 0, 0, 0,\n",
       "        0, 0, 1, 0, 0, 1, 1, 1])"
      ]
     },
     "metadata": {},
     "output_type": "display_data"
    },
    {
     "data": {
      "text/plain": [
       "tensor([0, 1, 0, 1, 1, 0, 1, 1, 0, 1, 1, 1, 1, 1, 1, 1, 1, 0, 0, 1])"
      ]
     },
     "metadata": {},
     "output_type": "display_data"
    },
    {
     "name": "stdout",
     "output_type": "stream",
     "text": [
      "Dataset 1 (Train) BoW Shape: torch.Size([5536, 768])\n",
      "Dataset 1 (Val) BoW Shape: torch.Size([1384, 768])\n",
      "Dataset 1 (Test) BoW Shape: (1821, 768)\n",
      "IMDB (Train) BoW Shape: torch.Size([80, 768])\n",
      "IMDB (Val) BoW Shape: torch.Size([20, 768])\n"
     ]
    }
   ],
   "source": [
    "train_d1 = pd.read_csv('data/train.tsv', sep='\\t', header=None)\n",
    "test_d1 = pd.read_csv('data/test.tsv', sep='\\t', header=None)\n",
    "train_d2 = pd.read_csv('data/IMDB-Dataset.csv').head(100)\n",
    "\n",
    "train_d1, val_d1 = train_test_split(train_d1, test_size=0.2, random_state=42)\n",
    "train_d2, val_d2 = train_test_split(train_d2, test_size=0.2, random_state=42)\n",
    "\n",
    "display(train_d1.shape, val_d1.shape, test_d1.shape, train_d2.shape, val_d2.shape)\n",
    "display(train_d1.head(), val_d1.head(), train_d2.head(), val_d2.head())\n",
    "\n",
    "vectorizer = CountVectorizer(max_features=768)\n",
    "d1_bow_train = vectorizer.fit_transform(train_d1[0])\n",
    "\n",
    "d1_bow_val = vectorizer.transform(val_d1[0])\n",
    "d1_bow_test = vectorizer.transform(test_d1[0])\n",
    "d2_bow_train = vectorizer.transform(train_d2[\"review\"])\n",
    "d2_bow_val = vectorizer.transform(val_d2[\"review\"])\n",
    "\n",
    "d1_bow_train = torch.tensor(d1_bow_train.toarray(), dtype=torch.float32)\n",
    "d1_bow_val = torch.tensor(d1_bow_val.toarray(), dtype=torch.float32)\n",
    "d2_bow_train = torch.tensor(d2_bow_train.toarray(), dtype=torch.float32)\n",
    "d2_bow_val = torch.tensor(d2_bow_val.toarray(), dtype=torch.float32)\n",
    "\n",
    "d1_train_y = torch.tensor(train_d1[1].values, dtype=torch.long)\n",
    "d1_val_y = torch.tensor(val_d1[1].values, dtype=torch.long)\n",
    "\n",
    "d2_train_y = torch.tensor(train_d2[\"sentiment\"].apply(lambda x: 1 if x == \"positive\" else 0).values, dtype=torch.long)\n",
    "d2_val_y = torch.tensor(val_d2[\"sentiment\"].apply(lambda x: 1 if x == \"positive\" else 0).values, dtype=torch.long)\n",
    "\n",
    "display(d2_train_y, d2_val_y)\n",
    "\n",
    "print(f\"Dataset 1 (Train) BoW Shape: {d1_bow_train.shape}\")\n",
    "print(f\"Dataset 1 (Val) BoW Shape: {d1_bow_val.shape}\")\n",
    "print(f\"Dataset 1 (Test) BoW Shape: {d1_bow_test.shape}\")\n",
    "print(f\"IMDB (Train) BoW Shape: {d2_bow_train.shape}\")\n",
    "print(f\"IMDB (Val) BoW Shape: {d2_bow_val.shape}\")"
   ]
  },
  {
   "cell_type": "code",
   "execution_count": 7,
   "id": "6fd03941",
   "metadata": {
    "execution": {
     "iopub.execute_input": "2025-03-15T05:23:09.790087Z",
     "iopub.status.busy": "2025-03-15T05:23:09.789824Z",
     "iopub.status.idle": "2025-03-15T05:23:15.627365Z",
     "shell.execute_reply": "2025-03-15T05:23:15.626615Z"
    },
    "papermill": {
     "duration": 5.843875,
     "end_time": "2025-03-15T05:23:15.628795",
     "exception": false,
     "start_time": "2025-03-15T05:23:09.784920",
     "status": "completed"
    },
    "tags": []
   },
   "outputs": [
    {
     "data": {
      "application/vnd.jupyter.widget-view+json": {
       "model_id": "db9f3b451f1d4081af4c6f2e7e4422ca",
       "version_major": 2,
       "version_minor": 0
      },
      "text/plain": [
       "tokenizer_config.json:   0%|          | 0.00/48.0 [00:00<?, ?B/s]"
      ]
     },
     "metadata": {},
     "output_type": "display_data"
    },
    {
     "data": {
      "application/vnd.jupyter.widget-view+json": {
       "model_id": "4b1283112f26402392a4334f7a39e00e",
       "version_major": 2,
       "version_minor": 0
      },
      "text/plain": [
       "config.json:   0%|          | 0.00/570 [00:00<?, ?B/s]"
      ]
     },
     "metadata": {},
     "output_type": "display_data"
    },
    {
     "data": {
      "application/vnd.jupyter.widget-view+json": {
       "model_id": "5904eb1a5fc54c7bafe615941ceb421e",
       "version_major": 2,
       "version_minor": 0
      },
      "text/plain": [
       "vocab.txt:   0%|          | 0.00/232k [00:00<?, ?B/s]"
      ]
     },
     "metadata": {},
     "output_type": "display_data"
    },
    {
     "data": {
      "application/vnd.jupyter.widget-view+json": {
       "model_id": "2bde9484ba6c4bfea04e5fb22a0bc5cd",
       "version_major": 2,
       "version_minor": 0
      },
      "text/plain": [
       "tokenizer.json:   0%|          | 0.00/466k [00:00<?, ?B/s]"
      ]
     },
     "metadata": {},
     "output_type": "display_data"
    },
    {
     "data": {
      "application/vnd.jupyter.widget-view+json": {
       "model_id": "256ebb26cec14105966cb6ee4d7eb7de",
       "version_major": 2,
       "version_minor": 0
      },
      "text/plain": [
       "model.safetensors:   0%|          | 0.00/440M [00:00<?, ?B/s]"
      ]
     },
     "metadata": {},
     "output_type": "display_data"
    },
    {
     "data": {
      "text/plain": [
       "768"
      ]
     },
     "metadata": {},
     "output_type": "display_data"
    }
   ],
   "source": [
    "MODEL = \"bert-base-uncased\"\n",
    "\n",
    "tokenizer = AutoTokenizer.from_pretrained(MODEL)\n",
    "embedding_model = AutoModel.from_pretrained(MODEL).to(device)\n",
    "display(embedding_model.config.hidden_size)"
   ]
  },
  {
   "cell_type": "code",
   "execution_count": 8,
   "id": "9fcbee1a",
   "metadata": {
    "execution": {
     "iopub.execute_input": "2025-03-15T05:23:15.639225Z",
     "iopub.status.busy": "2025-03-15T05:23:15.638998Z",
     "iopub.status.idle": "2025-03-15T05:23:30.005888Z",
     "shell.execute_reply": "2025-03-15T05:23:30.005009Z"
    },
    "papermill": {
     "duration": 14.373175,
     "end_time": "2025-03-15T05:23:30.007086",
     "exception": false,
     "start_time": "2025-03-15T05:23:15.633911",
     "status": "completed"
    },
    "tags": []
   },
   "outputs": [
    {
     "data": {
      "text/plain": [
       "torch.Size([5536, 768])"
      ]
     },
     "metadata": {},
     "output_type": "display_data"
    },
    {
     "data": {
      "text/plain": [
       "torch.Size([1384, 768])"
      ]
     },
     "metadata": {},
     "output_type": "display_data"
    },
    {
     "data": {
      "text/plain": [
       "torch.Size([80, 768])"
      ]
     },
     "metadata": {},
     "output_type": "display_data"
    },
    {
     "data": {
      "text/plain": [
       "torch.Size([20, 768])"
      ]
     },
     "metadata": {},
     "output_type": "display_data"
    }
   ],
   "source": [
    "def get_batch_embeddings(batch_texts):\n",
    "    inputs = tokenizer(\n",
    "        batch_texts, return_tensors=\"pt\", padding=True, truncation=True, max_length=512\n",
    "    ).to(device)\n",
    "\n",
    "    with torch.inference_mode():\n",
    "        outputs = embedding_model(**inputs)\n",
    "\n",
    "    return outputs.last_hidden_state.mean(dim=1).cpu().numpy()\n",
    "\n",
    "def generate_embeddings(texts, batch_size=8):\n",
    "    embeddings = []\n",
    "\n",
    "    for i in range(0, len(texts), batch_size):\n",
    "        batch_texts = texts[i : i + batch_size]\n",
    "        batch_embeddings = get_batch_embeddings(batch_texts)\n",
    "        embeddings.extend(batch_embeddings)\n",
    "\n",
    "    return torch.tensor(np.array(embeddings), dtype=torch.float32)\n",
    "\n",
    "d1_bert_train = generate_embeddings(train_d1[0].tolist())\n",
    "d1_bert_val = generate_embeddings(val_d1[0].tolist())\n",
    "\n",
    "d2_bert_train = generate_embeddings(train_d2[\"review\"].tolist())\n",
    "d2_bert_val = generate_embeddings(val_d2[\"review\"].tolist())\n",
    "\n",
    "display(d1_bert_train.shape, d1_bert_val.shape, d2_bert_train.shape, d2_bert_val.shape)"
   ]
  },
  {
   "cell_type": "code",
   "execution_count": 9,
   "id": "3165a3b2",
   "metadata": {
    "execution": {
     "iopub.execute_input": "2025-03-15T05:23:30.018278Z",
     "iopub.status.busy": "2025-03-15T05:23:30.018022Z",
     "iopub.status.idle": "2025-03-15T05:23:30.024193Z",
     "shell.execute_reply": "2025-03-15T05:23:30.023362Z"
    },
    "papermill": {
     "duration": 0.012877,
     "end_time": "2025-03-15T05:23:30.025448",
     "exception": false,
     "start_time": "2025-03-15T05:23:30.012571",
     "status": "completed"
    },
    "tags": []
   },
   "outputs": [],
   "source": [
    "from torch.utils.data import TensorDataset, DataLoader\n",
    "\n",
    "batch_size = 8\n",
    "\n",
    "train_d1_bow = TensorDataset(d1_bow_train, d1_train_y)\n",
    "val_d1_bow = TensorDataset(d1_bow_val, d1_val_y)\n",
    "train_d2_bow = TensorDataset(d2_bow_train, d2_train_y)\n",
    "val_d2_bow = TensorDataset(d2_bow_val, d2_val_y)\n",
    "\n",
    "train_d1_bert = TensorDataset(d1_bert_train, d1_train_y)\n",
    "val_d1_bert = TensorDataset(d1_bert_val, d1_val_y)\n",
    "train_d2_bert = TensorDataset(d2_bert_train, d2_train_y)\n",
    "val_d2_bert = TensorDataset(d2_bert_val, d2_val_y)\n",
    "\n",
    "train_d1_bow_loader = DataLoader(train_d1_bow, batch_size=batch_size, shuffle=True, pin_memory=True)\n",
    "val_d1_bow_loader = DataLoader(val_d1_bow, batch_size=batch_size, shuffle=False, pin_memory=True)\n",
    "train_d2_bow_loader = DataLoader(train_d2_bow, batch_size=batch_size, shuffle=True, pin_memory=True)\n",
    "val_d2_bow_loader = DataLoader(val_d2_bow, batch_size=batch_size, shuffle=False, pin_memory=True)\n",
    "\n",
    "train_d1_bert_loader = DataLoader(train_d1_bert, batch_size=batch_size, shuffle=True, pin_memory=True)\n",
    "val_d1_bert_loader = DataLoader(val_d1_bert, batch_size=batch_size, shuffle=False, pin_memory=True)\n",
    "train_d2_bert_loader = DataLoader(train_d2_bert, batch_size=batch_size, shuffle=True, pin_memory=True)\n",
    "val_d2_bert_loader = DataLoader(val_d2_bert, batch_size=batch_size, shuffle=False, pin_memory=True)"
   ]
  },
  {
   "cell_type": "code",
   "execution_count": 10,
   "id": "e4234568",
   "metadata": {
    "execution": {
     "iopub.execute_input": "2025-03-15T05:23:30.036107Z",
     "iopub.status.busy": "2025-03-15T05:23:30.035876Z",
     "iopub.status.idle": "2025-03-15T05:23:30.048321Z",
     "shell.execute_reply": "2025-03-15T05:23:30.047729Z"
    },
    "papermill": {
     "duration": 0.019059,
     "end_time": "2025-03-15T05:23:30.049485",
     "exception": false,
     "start_time": "2025-03-15T05:23:30.030426",
     "status": "completed"
    },
    "tags": []
   },
   "outputs": [],
   "source": [
    "criterion = nn.CrossEntropyLoss()\n",
    "\n",
    "def train(model, optimizer, train_loader, val_loader, epochs=10, emb='bow', mode='reg', writer=None):\n",
    "    model.train()\n",
    "\n",
    "    train_loss_ = []\n",
    "    val_loss_ = []\n",
    "    train_acc_ = []\n",
    "    val_acc_ = []\n",
    "\n",
    "    for epoch in range(epochs):\n",
    "        total_loss, correct, total = 0, 0, 0\n",
    "        \n",
    "        for inputs, labels in train_loader:\n",
    "            inputs, labels = inputs.to(device), labels.to(device)\n",
    "\n",
    "            optimizer.zero_grad()\n",
    "            outputs = model(inputs)\n",
    "            loss = criterion(outputs, labels)\n",
    "            loss.backward()\n",
    "            optimizer.step()\n",
    "\n",
    "            total_loss += loss.item()\n",
    "            _, predicted = torch.max(outputs, 1)\n",
    "            correct += (predicted == labels).sum().item()\n",
    "            total += labels.size(0)\n",
    "\n",
    "        train_acc = correct / total\n",
    "        val_acc, val_loss = evaluate(model, val_loader)\n",
    "\n",
    "        if writer is not None:\n",
    "            writer.add_scalar(f\"Loss/{emb}_{mode}/Train\", total_loss / len(train_loader), epoch + 1)\n",
    "            writer.add_scalar(f\"Loss/{emb}_{mode}/Validation\", val_loss, epoch + 1)\n",
    "            writer.add_scalar(f\"Accuracy/{emb}_{mode}/Train\", train_acc, epoch + 1)\n",
    "            writer.add_scalar(f\"Accuracy/{emb}_{mode}/Validation\", val_acc, epoch + 1)\n",
    "\n",
    "            for name, param in model.named_parameters():\n",
    "                if param.requires_grad:\n",
    "                    writer.add_scalar(f\"Gradients/{emb}_{mode}/{name}\", param.grad.norm(), epoch + 1)\n",
    "                    break  # Avoid logging every parameter (reduces spam)\n",
    "\n",
    "        print(f\"Epoch {epoch+1}/{epochs} | Train Loss: {total_loss:.4f} | Train Acc: {train_acc:.4f} | Val Loss: {val_loss:.4f} | Val Acc: {val_acc:.4f}\")\n",
    "        \n",
    "        train_loss_.append(total_loss)\n",
    "        val_loss_.append(val_loss)\n",
    "        train_acc_.append(train_acc)\n",
    "        val_acc_.append(val_acc)\n",
    "\n",
    "    # Plot Loss Curve\n",
    "    plt.plot(np.arange(epochs), train_loss_, c='b', label='Training Loss')\n",
    "    plt.plot(np.arange(epochs), val_loss_, c='r', label='Validation Loss')\n",
    "    plt.title(f'Loss vs Epochs with {emb} Embeddings in {mode} Mode')\n",
    "    plt.xlabel('Epochs')\n",
    "    plt.ylabel('Loss')\n",
    "    plt.legend()\n",
    "    plt.show()\n",
    "\n",
    "    # Plot Accuracy Curve\n",
    "    plt.plot(np.arange(epochs), train_acc_, c='b', label='Training Accuracy')\n",
    "    plt.plot(np.arange(epochs), val_acc_, c='r', label='Validation Accuracy')\n",
    "    plt.title(f'Accuracy vs Epochs with {emb} Embeddings in {mode} Mode')\n",
    "    plt.xlabel('Epochs')\n",
    "    plt.ylabel('Accuracy')\n",
    "    plt.legend()\n",
    "    plt.show()\n",
    "\n",
    "def evaluate(model, loader):\n",
    "    model.eval()\n",
    "    total_loss, correct, total = 0, 0, 0\n",
    "    \n",
    "    with torch.inference_mode():\n",
    "        for inputs, labels in loader:\n",
    "            inputs, labels = inputs.to(device), labels.to(device)\n",
    "            outputs = model(inputs)\n",
    "            loss = criterion(outputs, labels)\n",
    "\n",
    "            total_loss += loss.item()\n",
    "            _, predicted = torch.max(outputs, 1)\n",
    "            correct += (predicted == labels).sum().item()\n",
    "            total += labels.size(0)\n",
    "    \n",
    "    return correct / total, total_loss / len(loader)\n",
    "\n",
    "def evaluate_with_confusion_matrix(model, loader):\n",
    "    model.eval()\n",
    "    y_true, y_pred = [], []\n",
    "    \n",
    "    with torch.inference_mode():\n",
    "        for inputs, labels in loader:\n",
    "            inputs, labels = inputs.to(device), labels.to(device)\n",
    "            outputs = model(inputs)\n",
    "            _, predicted = torch.max(outputs, 1)\n",
    "            \n",
    "            y_true.extend(labels.cpu().numpy())\n",
    "            y_pred.extend(predicted.cpu().numpy())\n",
    "\n",
    "    cm = confusion_matrix(y_true, y_pred)\n",
    "    return cm, y_true, y_pred\n",
    "\n",
    "def plot_confusion_matrix(cm, model_name):\n",
    "    plt.figure(figsize=(5, 4))\n",
    "    sns.heatmap(cm, annot=True, fmt=\"d\", cmap=\"Blues\", xticklabels=[\"Negative\", \"Positive\"], yticklabels=[\"Negative\", \"Positive\"])\n",
    "    plt.xlabel(\"Predicted Label\")\n",
    "    plt.ylabel(\"True Label\")\n",
    "    plt.title(f\"Confusion Matrix for {model_name}\")\n",
    "    plt.show()"
   ]
  },
  {
   "cell_type": "code",
   "execution_count": 11,
   "id": "4a019089",
   "metadata": {
    "execution": {
     "iopub.execute_input": "2025-03-15T05:23:30.060126Z",
     "iopub.status.busy": "2025-03-15T05:23:30.059894Z",
     "iopub.status.idle": "2025-03-15T05:23:30.145841Z",
     "shell.execute_reply": "2025-03-15T05:23:30.144910Z"
    },
    "papermill": {
     "duration": 0.09268,
     "end_time": "2025-03-15T05:23:30.147180",
     "exception": false,
     "start_time": "2025-03-15T05:23:30.054500",
     "status": "completed"
    },
    "tags": []
   },
   "outputs": [
    {
     "name": "stdout",
     "output_type": "stream",
     "text": [
      "----------------------------------------------------------------\n",
      "        Layer (type)               Output Shape         Param #\n",
      "================================================================\n",
      "            Linear-1                  [-1, 512]         393,728\n",
      "              ReLU-2                  [-1, 512]               0\n",
      "           Dropout-3                  [-1, 512]               0\n",
      "            Linear-4                  [-1, 256]         131,328\n",
      "              ReLU-5                  [-1, 256]               0\n",
      "           Dropout-6                  [-1, 256]               0\n",
      "            Linear-7                  [-1, 128]          32,896\n",
      "              ReLU-8                  [-1, 128]               0\n",
      "           Dropout-9                  [-1, 128]               0\n",
      "           Linear-10                   [-1, 64]           8,256\n",
      "             ReLU-11                   [-1, 64]               0\n",
      "          Dropout-12                   [-1, 64]               0\n",
      "           Linear-13                    [-1, 2]             130\n",
      "================================================================\n",
      "Total params: 566,338\n",
      "Trainable params: 566,338\n",
      "Non-trainable params: 0\n",
      "----------------------------------------------------------------\n",
      "Input size (MB): 0.00\n",
      "Forward/backward pass size (MB): 0.02\n",
      "Params size (MB): 2.16\n",
      "Estimated Total Size (MB): 2.19\n",
      "----------------------------------------------------------------\n",
      "----------------------------------------------------------------\n",
      "        Layer (type)               Output Shape         Param #\n",
      "================================================================\n",
      "            Linear-1                  [-1, 512]         393,728\n",
      "              ReLU-2                  [-1, 512]               0\n",
      "           Dropout-3                  [-1, 512]               0\n",
      "            Linear-4                  [-1, 256]         131,328\n",
      "              ReLU-5                  [-1, 256]               0\n",
      "           Dropout-6                  [-1, 256]               0\n",
      "            Linear-7                  [-1, 128]          32,896\n",
      "              ReLU-8                  [-1, 128]               0\n",
      "           Dropout-9                  [-1, 128]               0\n",
      "           Linear-10                   [-1, 64]           8,256\n",
      "             ReLU-11                   [-1, 64]               0\n",
      "          Dropout-12                   [-1, 64]               0\n",
      "           Linear-13                    [-1, 2]             130\n",
      "================================================================\n",
      "Total params: 566,338\n",
      "Trainable params: 566,338\n",
      "Non-trainable params: 0\n",
      "----------------------------------------------------------------\n",
      "Input size (MB): 0.00\n",
      "Forward/backward pass size (MB): 0.02\n",
      "Params size (MB): 2.16\n",
      "Estimated Total Size (MB): 2.19\n",
      "----------------------------------------------------------------\n"
     ]
    }
   ],
   "source": [
    "model_bow = nn.Sequential(\n",
    "    nn.Linear(768, 512),\n",
    "    nn.ReLU(),\n",
    "    nn.Dropout(0.3),\n",
    "    nn.Linear(512, 256),\n",
    "    nn.ReLU(),\n",
    "    nn.Dropout(0.3),\n",
    "    nn.Linear(256, 128),\n",
    "    nn.ReLU(),\n",
    "    nn.Dropout(0.3),\n",
    "    nn.Linear(128, 64),\n",
    "    nn.ReLU(),\n",
    "    nn.Dropout(0.3),\n",
    "    nn.Linear(64, 2),\n",
    ").to(device)\n",
    "\n",
    "model_bert = nn.Sequential(\n",
    "    nn.Linear(768, 512),\n",
    "    nn.ReLU(),\n",
    "    nn.Dropout(0.3),\n",
    "    nn.Linear(512, 256),\n",
    "    nn.ReLU(),\n",
    "    nn.Dropout(0.3),\n",
    "    nn.Linear(256, 128),\n",
    "    nn.ReLU(),\n",
    "    nn.Dropout(0.3),\n",
    "    nn.Linear(128, 64),\n",
    "    nn.ReLU(),\n",
    "    nn.Dropout(0.3),\n",
    "    nn.Linear(64, 2),\n",
    ").to(device)\n",
    "\n",
    "summary(model_bow, (768,))\n",
    "summary(model_bert, (768,))"
   ]
  },
  {
   "cell_type": "code",
   "execution_count": 12,
   "id": "b23e6067",
   "metadata": {
    "execution": {
     "iopub.execute_input": "2025-03-15T05:23:30.158445Z",
     "iopub.status.busy": "2025-03-15T05:23:30.158212Z",
     "iopub.status.idle": "2025-03-15T05:24:03.359754Z",
     "shell.execute_reply": "2025-03-15T05:24:03.358996Z"
    },
    "papermill": {
     "duration": 33.208697,
     "end_time": "2025-03-15T05:24:03.361143",
     "exception": false,
     "start_time": "2025-03-15T05:23:30.152446",
     "status": "completed"
    },
    "tags": []
   },
   "outputs": [
    {
     "name": "stdout",
     "output_type": "stream",
     "text": [
      "Training MLP on BoW (Dataset 1)\n",
      "Epoch 1/10 | Train Loss: 427.7720 | Train Acc: 0.6526 | Val Loss: 0.5600 | Val Acc: 0.7442\n",
      "Epoch 2/10 | Train Loss: 325.3862 | Train Acc: 0.7753 | Val Loss: 0.5423 | Val Acc: 0.7392\n",
      "Epoch 3/10 | Train Loss: 217.0481 | Train Acc: 0.8624 | Val Loss: 0.5707 | Val Acc: 0.7182\n",
      "Epoch 4/10 | Train Loss: 93.0195 | Train Acc: 0.9408 | Val Loss: 1.0082 | Val Acc: 0.7298\n",
      "Epoch 5/10 | Train Loss: 37.4938 | Train Acc: 0.9756 | Val Loss: 1.8570 | Val Acc: 0.7363\n",
      "Epoch 6/10 | Train Loss: 27.3720 | Train Acc: 0.9812 | Val Loss: 1.9535 | Val Acc: 0.7124\n",
      "Epoch 7/10 | Train Loss: 20.9509 | Train Acc: 0.9850 | Val Loss: 2.1364 | Val Acc: 0.7269\n",
      "Epoch 8/10 | Train Loss: 28.0319 | Train Acc: 0.9846 | Val Loss: 1.9750 | Val Acc: 0.7247\n",
      "Epoch 9/10 | Train Loss: 18.8556 | Train Acc: 0.9872 | Val Loss: 2.1983 | Val Acc: 0.7146\n",
      "Epoch 10/10 | Train Loss: 15.3037 | Train Acc: 0.9888 | Val Loss: 2.5898 | Val Acc: 0.7197\n"
     ]
    },
    {
     "data": {
      "image/png": "[encoded data removed]",
      "text/plain": [
       "<Figure size 640x480 with 1 Axes>"
      ]
     },
     "metadata": {},
     "output_type": "display_data"
    },
    {
     "data": {
      "image/png": "[encoded data removed]",
      "text/plain": [
       "<Figure size 640x480 with 1 Axes>"
      ]
     },
     "metadata": {},
     "output_type": "display_data"
    },
    {
     "name": "stdout",
     "output_type": "stream",
     "text": [
      "Training MLP on BERT (Dataset 1)\n",
      "Epoch 1/10 | Train Loss: 312.8475 | Train Acc: 0.7749 | Val Loss: 0.3415 | Val Acc: 0.8671\n",
      "Epoch 2/10 | Train Loss: 233.5962 | Train Acc: 0.8544 | Val Loss: 0.3046 | Val Acc: 0.8569\n",
      "Epoch 3/10 | Train Loss: 215.5725 | Train Acc: 0.8661 | Val Loss: 0.3331 | Val Acc: 0.8562\n",
      "Epoch 4/10 | Train Loss: 200.9634 | Train Acc: 0.8786 | Val Loss: 0.3002 | Val Acc: 0.8764\n",
      "Epoch 5/10 | Train Loss: 184.3119 | Train Acc: 0.8871 | Val Loss: 0.3075 | Val Acc: 0.8663\n",
      "Epoch 6/10 | Train Loss: 169.2217 | Train Acc: 0.8943 | Val Loss: 0.3200 | Val Acc: 0.8707\n",
      "Epoch 7/10 | Train Loss: 147.4106 | Train Acc: 0.9099 | Val Loss: 0.4034 | Val Acc: 0.8699\n",
      "Epoch 8/10 | Train Loss: 134.4638 | Train Acc: 0.9198 | Val Loss: 0.3415 | Val Acc: 0.8627\n",
      "Epoch 9/10 | Train Loss: 114.7228 | Train Acc: 0.9333 | Val Loss: 0.4349 | Val Acc: 0.8671\n",
      "Epoch 10/10 | Train Loss: 92.6998 | Train Acc: 0.9453 | Val Loss: 0.3861 | Val Acc: 0.8649\n"
     ]
    },
    {
     "data": {
      "image/png": "[encoded data removed]",
      "text/plain": [
       "<Figure size 640x480 with 1 Axes>"
      ]
     },
     "metadata": {},
     "output_type": "display_data"
    },
    {
     "data": {
      "image/png": "[encoded data removed]",
      "text/plain": [
       "<Figure size 640x480 with 1 Axes>"
      ]
     },
     "metadata": {},
     "output_type": "display_data"
    },
    {
     "name": "stdout",
     "output_type": "stream",
     "text": [
      "Fine-tuning MLP on BoW (IMDB)\n",
      "Epoch 1/10 | Train Loss: 58.9229 | Train Acc: 0.6750 | Val Loss: 7.7723 | Val Acc: 0.6500\n",
      "Epoch 2/10 | Train Loss: 51.9918 | Train Acc: 0.7375 | Val Loss: 7.4547 | Val Acc: 0.6500\n",
      "Epoch 3/10 | Train Loss: 41.5825 | Train Acc: 0.7750 | Val Loss: 7.3913 | Val Acc: 0.6500\n",
      "Epoch 4/10 | Train Loss: 34.0467 | Train Acc: 0.7750 | Val Loss: 7.4121 | Val Acc: 0.6500\n",
      "Epoch 5/10 | Train Loss: 26.3395 | Train Acc: 0.7875 | Val Loss: 7.4189 | Val Acc: 0.7000\n",
      "Epoch 6/10 | Train Loss: 19.2902 | Train Acc: 0.8250 | Val Loss: 7.4152 | Val Acc: 0.7000\n",
      "Epoch 7/10 | Train Loss: 13.9065 | Train Acc: 0.8375 | Val Loss: 7.4950 | Val Acc: 0.6500\n",
      "Epoch 8/10 | Train Loss: 8.5670 | Train Acc: 0.8625 | Val Loss: 7.5522 | Val Acc: 0.6500\n",
      "Epoch 9/10 | Train Loss: 6.9588 | Train Acc: 0.9125 | Val Loss: 7.6291 | Val Acc: 0.6500\n",
      "Epoch 10/10 | Train Loss: 6.3633 | Train Acc: 0.9375 | Val Loss: 7.6993 | Val Acc: 0.6500\n"
     ]
    },
    {
     "data": {
      "image/png": "[encoded data removed]",
      "text/plain": [
       "<Figure size 640x480 with 1 Axes>"
      ]
     },
     "metadata": {},
     "output_type": "display_data"
    },
    {
     "data": {
      "image/png": "[encoded data removed]",
      "text/plain": [
       "<Figure size 640x480 with 1 Axes>"
      ]
     },
     "metadata": {},
     "output_type": "display_data"
    },
    {
     "name": "stdout",
     "output_type": "stream",
     "text": [
      "Fine-tuning MLP on BERT (IMDB)\n",
      "Epoch 1/10 | Train Loss: 2.6566 | Train Acc: 0.8875 | Val Loss: 0.3357 | Val Acc: 0.9500\n",
      "Epoch 2/10 | Train Loss: 1.9514 | Train Acc: 0.9000 | Val Loss: 0.2885 | Val Acc: 0.9000\n",
      "Epoch 3/10 | Train Loss: 1.7094 | Train Acc: 0.9375 | Val Loss: 0.2674 | Val Acc: 0.9000\n",
      "Epoch 4/10 | Train Loss: 1.5270 | Train Acc: 0.9500 | Val Loss: 0.2624 | Val Acc: 0.9000\n",
      "Epoch 5/10 | Train Loss: 1.3611 | Train Acc: 0.9500 | Val Loss: 0.2642 | Val Acc: 0.9000\n",
      "Epoch 6/10 | Train Loss: 1.2157 | Train Acc: 0.9750 | Val Loss: 0.2675 | Val Acc: 0.9000\n",
      "Epoch 7/10 | Train Loss: 1.0827 | Train Acc: 0.9750 | Val Loss: 0.2762 | Val Acc: 0.9000\n",
      "Epoch 8/10 | Train Loss: 0.9533 | Train Acc: 0.9875 | Val Loss: 0.2849 | Val Acc: 0.9000\n",
      "Epoch 9/10 | Train Loss: 0.8517 | Train Acc: 0.9875 | Val Loss: 0.3027 | Val Acc: 0.9000\n",
      "Epoch 10/10 | Train Loss: 0.7724 | Train Acc: 0.9875 | Val Loss: 0.3087 | Val Acc: 0.9000\n"
     ]
    },
    {
     "data": {
      "image/png": "[encoded data removed]",
      "text/plain": [
       "<Figure size 640x480 with 1 Axes>"
      ]
     },
     "metadata": {},
     "output_type": "display_data"
    },
    {
     "data": {
      "image/png": "[encoded data removed]",
      "text/plain": [
       "<Figure size 640x480 with 1 Axes>"
      ]
     },
     "metadata": {},
     "output_type": "display_data"
    },
    {
     "name": "stdout",
     "output_type": "stream",
     "text": [
      "Saved final models\n"
     ]
    }
   ],
   "source": [
    "pretrain_lr = 0.001  \n",
    "finetune_lr = 0.0001  \n",
    "\n",
    "optimizer_bow = optim.Adam(model_bow.parameters(), lr=pretrain_lr)\n",
    "optimizer_bert = optim.Adam(model_bert.parameters(), lr=pretrain_lr)\n",
    "\n",
    "print(\"Training MLP on BoW (Dataset 1)\")\n",
    "train(model_bow, optimizer_bow, train_d1_bow_loader, val_d1_bow_loader, epochs=10, emb='BoW', mode='Regular', writer=writer)\n",
    "\n",
    "print(\"Training MLP on BERT (Dataset 1)\")\n",
    "train(model_bert, optimizer_bert, train_d1_bert_loader, val_d1_bert_loader, epochs=10, emb='BERT', mode='Regular', writer=writer)\n",
    "\n",
    "torch.save(model_bow.state_dict(), \"best_model_bow.pt\")\n",
    "torch.save(model_bert.state_dict(), \"best_model_bert.pt\")\n",
    "\n",
    "model_bow.load_state_dict(torch.load(\"best_model_bow.pt\", weights_only=True))\n",
    "model_bert.load_state_dict(torch.load(\"best_model_bert.pt\", weights_only=True))\n",
    "\n",
    "optimizer_bow = optim.Adam(model_bow.parameters(), lr=finetune_lr)\n",
    "optimizer_bert = optim.Adam(model_bert.parameters(), lr=finetune_lr)\n",
    "\n",
    "print(\"Fine-tuning MLP on BoW (IMDB)\")\n",
    "train(model_bow, optimizer_bow, train_d2_bow_loader, val_d2_bow_loader, epochs=10, emb='BoW', mode='Fine-Tuned', writer=writer)\n",
    "\n",
    "print(\"Fine-tuning MLP on BERT (IMDB)\")\n",
    "train(model_bert, optimizer_bert, train_d2_bert_loader, val_d2_bert_loader, epochs=10, emb='BERT', mode='Fine-Tuned', writer=writer)\n",
    "\n",
    "torch.save(model_bow.state_dict(), \"final_model_bow.pt\")\n",
    "torch.save(model_bert.state_dict(), \"final_model_bert.pt\")\n",
    "\n",
    "print(\"Saved final models\")"
   ]
  },
  {
   "cell_type": "code",
   "execution_count": 13,
   "id": "5c4ed542",
   "metadata": {
    "execution": {
     "iopub.execute_input": "2025-03-15T05:24:03.384998Z",
     "iopub.status.busy": "2025-03-15T05:24:03.384758Z",
     "iopub.status.idle": "2025-03-15T05:24:04.022554Z",
     "shell.execute_reply": "2025-03-15T05:24:04.021744Z"
    },
    "papermill": {
     "duration": 0.650962,
     "end_time": "2025-03-15T05:24:04.024091",
     "exception": false,
     "start_time": "2025-03-15T05:24:03.373129",
     "status": "completed"
    },
    "tags": []
   },
   "outputs": [
    {
     "name": "stdout",
     "output_type": "stream",
     "text": [
      "IMDB Validation Results (BoW Model): Accuracy = 0.6500, Loss = 7.6993\n",
      "IMDB Validation Results (BERT Model): Accuracy = 0.9000, Loss = 0.3087\n"
     ]
    },
    {
     "data": {
      "image/png": "[encoded data removed]",
      "text/plain": [
       "<Figure size 500x400 with 2 Axes>"
      ]
     },
     "metadata": {},
     "output_type": "display_data"
    },
    {
     "data": {
      "image/png": "[encoded data removed]",
      "text/plain": [
       "<Figure size 500x400 with 2 Axes>"
      ]
     },
     "metadata": {},
     "output_type": "display_data"
    }
   ],
   "source": [
    "model_bow.load_state_dict(torch.load(\"final_model_bow.pt\", weights_only=True))\n",
    "model_bert.load_state_dict(torch.load(\"final_model_bert.pt\", weights_only=True))\n",
    "\n",
    "bow_imdb_val_acc, bow_imdb_val_loss = evaluate(model_bow, val_d2_bow_loader)\n",
    "bert_imdb_val_acc, bert_imdb_val_loss = evaluate(model_bert, val_d2_bert_loader)\n",
    "\n",
    "print(f\"IMDB Validation Results (BoW Model): Accuracy = {bow_imdb_val_acc:.4f}, Loss = {bow_imdb_val_loss:.4f}\")\n",
    "print(f\"IMDB Validation Results (BERT Model): Accuracy = {bert_imdb_val_acc:.4f}, Loss = {bert_imdb_val_loss:.4f}\")\n",
    "\n",
    "bow_cm, bow_y_true, bow_y_pred = evaluate_with_confusion_matrix(model_bow, val_d2_bow_loader)\n",
    "bert_cm, bert_y_true, bert_y_pred = evaluate_with_confusion_matrix(model_bert, val_d2_bert_loader)\n",
    "\n",
    "plot_confusion_matrix(bow_cm, \"BoW Model\")\n",
    "plot_confusion_matrix(bert_cm, \"BERT Model\")"
   ]
  },
  {
   "cell_type": "code",
   "execution_count": 14,
   "id": "d09d89b2",
   "metadata": {
    "execution": {
     "iopub.execute_input": "2025-03-15T05:24:04.049787Z",
     "iopub.status.busy": "2025-03-15T05:24:04.049497Z",
     "iopub.status.idle": "2025-03-15T05:24:10.116981Z",
     "shell.execute_reply": "2025-03-15T05:24:10.116129Z"
    },
    "papermill": {
     "duration": 6.081465,
     "end_time": "2025-03-15T05:24:10.118291",
     "exception": false,
     "start_time": "2025-03-15T05:24:04.036826",
     "status": "completed"
    },
    "tags": []
   },
   "outputs": [
    {
     "data": {
      "application/javascript": [
       "\n",
       "        (async () => {\n",
       "            const url = new URL(await google.colab.kernel.proxyPort(6006, {'cache': true}));\n",
       "            url.searchParams.set('tensorboardColab', 'true');\n",
       "            const iframe = document.createElement('iframe');\n",
       "            iframe.src = url;\n",
       "            iframe.setAttribute('width', '100%');\n",
       "            iframe.setAttribute('height', '800');\n",
       "            iframe.setAttribute('frameborder', 0);\n",
       "            document.body.appendChild(iframe);\n",
       "        })();\n",
       "    "
      ],
      "text/plain": [
       "<IPython.core.display.Javascript object>"
      ]
     },
     "metadata": {},
     "output_type": "display_data"
    }
   ],
   "source": [
    "%load_ext tensorboard\n",
    "%tensorboard --logdir runs"
   ]
  }
 ],
 "metadata": {
  "kaggle": {
   "accelerator": "gpu",
   "dataSources": [],
   "dockerImageVersionId": 30919,
   "isGpuEnabled": true,
   "isInternetEnabled": true,
   "language": "python",
   "sourceType": "notebook"
  },
  "kernelspec": {
   "display_name": "Python 3",
   "language": "python",
   "name": "python3"
  },
  "language_info": {
   "codemirror_mode": {
    "name": "ipython",
    "version": 3
   },
   "file_extension": ".py",
   "mimetype": "text/x-python",
   "name": "python",
   "nbconvert_exporter": "python",
   "pygments_lexer": "ipython3",
   "version": "3.10.12"
  },
  "papermill": {
   "default_parameters": {},
   "duration": 91.790179,
   "end_time": "2025-03-15T05:24:12.986309",
   "environment_variables": {},
   "exception": null,
   "input_path": "__notebook__.ipynb",
   "output_path": "__notebook__.ipynb",
   "parameters": {},
   "start_time": "2025-03-15T05:22:41.196130",
   "version": "2.6.0"
  },
  "widgets": {
   "application/vnd.jupyter.widget-state+json": {
    "state": {
     "01749ca2a0454d0cb711b11e75066710": {
      "model_module": "@jupyter-widgets/base",
      "model_module_version": "2.0.0",
      "model_name": "LayoutModel",
      "state": {
       "_model_module": "@jupyter-widgets/base",
       "_model_module_version": "2.0.0",
       "_model_name": "LayoutModel",
       "_view_count": null,
       "_view_module": "@jupyter-widgets/base",
       "_view_module_version": "2.0.0",
       "_view_name": "LayoutView",
       "align_content": null,
       "align_items": null,
       "align_self": null,
       "border_bottom": null,
       "border_left": null,
       "border_right": null,
       "border_top": null,
       "bottom": null,
       "display": null,
       "flex": null,
       "flex_flow": null,
       "grid_area": null,
       "grid_auto_columns": null,
       "grid_auto_flow": null,
       "grid_auto_rows": null,
       "grid_column": null,
       "grid_gap": null,
       "grid_row": null,
       "grid_template_areas": null,
       "grid_template_columns": null,
       "grid_template_rows": null,
       "height": null,
       "justify_content": null,
       "justify_items": null,
       "left": null,
       "margin": null,
       "max_height": null,
       "max_width": null,
       "min_height": null,
       "min_width": null,
       "object_fit": null,
       "object_position": null,
       "order": null,
       "overflow": null,
       "padding": null,
       "right": null,
       "top": null,
       "visibility": null,
       "width": null
      }
     },
     "05b72172feea486ab42867df0cc31bd3": {
      "model_module": "@jupyter-widgets/base",
      "model_module_version": "2.0.0",
      "model_name": "LayoutModel",
      "state": {
       "_model_module": "@jupyter-widgets/base",
       "_model_module_version": "2.0.0",
       "_model_name": "LayoutModel",
       "_view_count": null,
       "_view_module": "@jupyter-widgets/base",
       "_view_module_version": "2.0.0",
       "_view_name": "LayoutView",
       "align_content": null,
       "align_items": null,
       "align_self": null,
       "border_bottom": null,
       "border_left": null,
       "border_right": null,
       "border_top": null,
       "bottom": null,
       "display": null,
       "flex": null,
       "flex_flow": null,
       "grid_area": null,
       "grid_auto_columns": null,
       "grid_auto_flow": null,
       "grid_auto_rows": null,
       "grid_column": null,
       "grid_gap": null,
       "grid_row": null,
       "grid_template_areas": null,
       "grid_template_columns": null,
       "grid_template_rows": null,
       "height": null,
       "justify_content": null,
       "justify_items": null,
       "left": null,
       "margin": null,
       "max_height": null,
       "max_width": null,
       "min_height": null,
       "min_width": null,
       "object_fit": null,
       "object_position": null,
       "order": null,
       "overflow": null,
       "padding": null,
       "right": null,
       "top": null,
       "visibility": null,
       "width": null
      }
     },
     "05ffc6c0640c4911881be0a326f2750d": {
      "model_module": "@jupyter-widgets/base",
      "model_module_version": "2.0.0",
      "model_name": "LayoutModel",
      "state": {
       "_model_module": "@jupyter-widgets/base",
       "_model_module_version": "2.0.0",
       "_model_name": "LayoutModel",
       "_view_count": null,
       "_view_module": "@jupyter-widgets/base",
       "_view_module_version": "2.0.0",
       "_view_name": "LayoutView",
       "align_content": null,
       "align_items": null,
       "align_self": null,
       "border_bottom": null,
       "border_left": null,
       "border_right": null,
       "border_top": null,
       "bottom": null,
       "display": null,
       "flex": null,
       "flex_flow": null,
       "grid_area": null,
       "grid_auto_columns": null,
       "grid_auto_flow": null,
       "grid_auto_rows": null,
       "grid_column": null,
       "grid_gap": null,
       "grid_row": null,
       "grid_template_areas": null,
       "grid_template_columns": null,
       "grid_template_rows": null,
       "height": null,
       "justify_content": null,
       "justify_items": null,
       "left": null,
       "margin": null,
       "max_height": null,
       "max_width": null,
       "min_height": null,
       "min_width": null,
       "object_fit": null,
       "object_position": null,
       "order": null,
       "overflow": null,
       "padding": null,
       "right": null,
       "top": null,
       "visibility": null,
       "width": null
      }
     },
     "0744589d2f6945a7b5c98b3581b8959d": {
      "model_module": "@jupyter-widgets/base",
      "model_module_version": "2.0.0",
      "model_name": "LayoutModel",
      "state": {
       "_model_module": "@jupyter-widgets/base",
       "_model_module_version": "2.0.0",
       "_model_name": "LayoutModel",
       "_view_count": null,
       "_view_module": "@jupyter-widgets/base",
       "_view_module_version": "2.0.0",
       "_view_name": "LayoutView",
       "align_content": null,
       "align_items": null,
       "align_self": null,
       "border_bottom": null,
       "border_left": null,
       "border_right": null,
       "border_top": null,
       "bottom": null,
       "display": null,
       "flex": null,
       "flex_flow": null,
       "grid_area": null,
       "grid_auto_columns": null,
       "grid_auto_flow": null,
       "grid_auto_rows": null,
       "grid_column": null,
       "grid_gap": null,
       "grid_row": null,
       "grid_template_areas": null,
       "grid_template_columns": null,
       "grid_template_rows": null,
       "height": null,
       "justify_content": null,
       "justify_items": null,
       "left": null,
       "margin": null,
       "max_height": null,
       "max_width": null,
       "min_height": null,
       "min_width": null,
       "object_fit": null,
       "object_position": null,
       "order": null,
       "overflow": null,
       "padding": null,
       "right": null,
       "top": null,
       "visibility": null,
       "width": null
      }
     },
     "080d136b0dbb449588902c2491a61400": {
      "model_module": "@jupyter-widgets/controls",
      "model_module_version": "2.0.0",
      "model_name": "HTMLStyleModel",
      "state": {
       "_model_module": "@jupyter-widgets/controls",
       "_model_module_version": "2.0.0",
       "_model_name": "HTMLStyleModel",
       "_view_count": null,
       "_view_module": "@jupyter-widgets/base",
       "_view_module_version": "2.0.0",
       "_view_name": "StyleView",
       "background": null,
       "description_width": "",
       "font_size": null,
       "text_color": null
      }
     },
     "093800506d654d369f95c3171ac6e2c3": {
      "model_module": "@jupyter-widgets/controls",
      "model_module_version": "2.0.0",
      "model_name": "HTMLStyleModel",
      "state": {
       "_model_module": "@jupyter-widgets/controls",
       "_model_module_version": "2.0.0",
       "_model_name": "HTMLStyleModel",
       "_view_count": null,
       "_view_module": "@jupyter-widgets/base",
       "_view_module_version": "2.0.0",
       "_view_name": "StyleView",
       "background": null,
       "description_width": "",
       "font_size": null,
       "text_color": null
      }
     },
     "0befc575b10c471a9e63408595c4be8a": {
      "model_module": "@jupyter-widgets/controls",
      "model_module_version": "2.0.0",
      "model_name": "HTMLModel",
      "state": {
       "_dom_classes": [],
       "_model_module": "@jupyter-widgets/controls",
       "_model_module_version": "2.0.0",
       "_model_name": "HTMLModel",
       "_view_count": null,
       "_view_module": "@jupyter-widgets/controls",
       "_view_module_version": "2.0.0",
       "_view_name": "HTMLView",
       "description": "",
       "description_allow_html": false,
       "layout": "IPY_MODEL_e05151addf6c4cfba0107423f29f568b",
       "placeholder": "​",
       "style": "IPY_MODEL_093800506d654d369f95c3171ac6e2c3",
       "tabbable": null,
       "tooltip": null,
       "value": " 440M/440M [00:01&lt;00:00, 251MB/s]"
      }
     },
     "0c5fde16b6a74e7d9cebb25c4261e6d4": {
      "model_module": "@jupyter-widgets/controls",
      "model_module_version": "2.0.0",
      "model_name": "ProgressStyleModel",
      "state": {
       "_model_module": "@jupyter-widgets/controls",
       "_model_module_version": "2.0.0",
       "_model_name": "ProgressStyleModel",
       "_view_count": null,
       "_view_module": "@jupyter-widgets/base",
       "_view_module_version": "2.0.0",
       "_view_name": "StyleView",
       "bar_color": null,
       "description_width": ""
      }
     },
     "1136d4539a4947b681f79dfa60fd8a18": {
      "model_module": "@jupyter-widgets/controls",
      "model_module_version": "2.0.0",
      "model_name": "HTMLStyleModel",
      "state": {
       "_model_module": "@jupyter-widgets/controls",
       "_model_module_version": "2.0.0",
       "_model_name": "HTMLStyleModel",
       "_view_count": null,
       "_view_module": "@jupyter-widgets/base",
       "_view_module_version": "2.0.0",
       "_view_name": "StyleView",
       "background": null,
       "description_width": "",
       "font_size": null,
       "text_color": null
      }
     },
     "15f38eedb3a24506941c67ad28facf17": {
      "model_module": "@jupyter-widgets/controls",
      "model_module_version": "2.0.0",
      "model_name": "HTMLStyleModel",
      "state": {
       "_model_module": "@jupyter-widgets/controls",
       "_model_module_version": "2.0.0",
       "_model_name": "HTMLStyleModel",
       "_view_count": null,
       "_view_module": "@jupyter-widgets/base",
       "_view_module_version": "2.0.0",
       "_view_name": "StyleView",
       "background": null,
       "description_width": "",
       "font_size": null,
       "text_color": null
      }
     },
     "166d9569f87c42d38173ebaffed3f5f7": {
      "model_module": "@jupyter-widgets/base",
      "model_module_version": "2.0.0",
      "model_name": "LayoutModel",
      "state": {
       "_model_module": "@jupyter-widgets/base",
       "_model_module_version": "2.0.0",
       "_model_name": "LayoutModel",
       "_view_count": null,
       "_view_module": "@jupyter-widgets/base",
       "_view_module_version": "2.0.0",
       "_view_name": "LayoutView",
       "align_content": null,
       "align_items": null,
       "align_self": null,
       "border_bottom": null,
       "border_left": null,
       "border_right": null,
       "border_top": null,
       "bottom": null,
       "display": null,
       "flex": null,
       "flex_flow": null,
       "grid_area": null,
       "grid_auto_columns": null,
       "grid_auto_flow": null,
       "grid_auto_rows": null,
       "grid_column": null,
       "grid_gap": null,
       "grid_row": null,
       "grid_template_areas": null,
       "grid_template_columns": null,
       "grid_template_rows": null,
       "height": null,
       "justify_content": null,
       "justify_items": null,
       "left": null,
       "margin": null,
       "max_height": null,
       "max_width": null,
       "min_height": null,
       "min_width": null,
       "object_fit": null,
       "object_position": null,
       "order": null,
       "overflow": null,
       "padding": null,
       "right": null,
       "top": null,
       "visibility": null,
       "width": null
      }
     },
     "256ebb26cec14105966cb6ee4d7eb7de": {
      "model_module": "@jupyter-widgets/controls",
      "model_module_version": "2.0.0",
      "model_name": "HBoxModel",
      "state": {
       "_dom_classes": [],
       "_model_module": "@jupyter-widgets/controls",
       "_model_module_version": "2.0.0",
       "_model_name": "HBoxModel",
       "_view_count": null,
       "_view_module": "@jupyter-widgets/controls",
       "_view_module_version": "2.0.0",
       "_view_name": "HBoxView",
       "box_style": "",
       "children": [
        "IPY_MODEL_376e79ccdd404aaea545b4a888afe24f",
        "IPY_MODEL_5bb5ee4e6bc840ea9f882d590f2a0fae",
        "IPY_MODEL_0befc575b10c471a9e63408595c4be8a"
       ],
       "layout": "IPY_MODEL_e84c713e5fa44526be5e4bf845d55783",
       "tabbable": null,
       "tooltip": null
      }
     },
     "2a11cc141b684ee5ae45b599b1ae0e76": {
      "model_module": "@jupyter-widgets/base",
      "model_module_version": "2.0.0",
      "model_name": "LayoutModel",
      "state": {
       "_model_module": "@jupyter-widgets/base",
       "_model_module_version": "2.0.0",
       "_model_name": "LayoutModel",
       "_view_count": null,
       "_view_module": "@jupyter-widgets/base",
       "_view_module_version": "2.0.0",
       "_view_name": "LayoutView",
       "align_content": null,
       "align_items": null,
       "align_self": null,
       "border_bottom": null,
       "border_left": null,
       "border_right": null,
       "border_top": null,
       "bottom": null,
       "display": null,
       "flex": null,
       "flex_flow": null,
       "grid_area": null,
       "grid_auto_columns": null,
       "grid_auto_flow": null,
       "grid_auto_rows": null,
       "grid_column": null,
       "grid_gap": null,
       "grid_row": null,
       "grid_template_areas": null,
       "grid_template_columns": null,
       "grid_template_rows": null,
       "height": null,
       "justify_content": null,
       "justify_items": null,
       "left": null,
       "margin": null,
       "max_height": null,
       "max_width": null,
       "min_height": null,
       "min_width": null,
       "object_fit": null,
       "object_position": null,
       "order": null,
       "overflow": null,
       "padding": null,
       "right": null,
       "top": null,
       "visibility": null,
       "width": null
      }
     },
     "2ae5b8befbc24ea5b0113732f559de9c": {
      "model_module": "@jupyter-widgets/controls",
      "model_module_version": "2.0.0",
      "model_name": "FloatProgressModel",
      "state": {
       "_dom_classes": [],
       "_model_module": "@jupyter-widgets/controls",
       "_model_module_version": "2.0.0",
       "_model_name": "FloatProgressModel",
       "_view_count": null,
       "_view_module": "@jupyter-widgets/controls",
       "_view_module_version": "2.0.0",
       "_view_name": "ProgressView",
       "bar_style": "success",
       "description": "",
       "description_allow_html": false,
       "layout": "IPY_MODEL_f63329a779a14f9b8e2530b12520cfae",
       "max": 48.0,
       "min": 0.0,
       "orientation": "horizontal",
       "style": "IPY_MODEL_c3d77971b4e94a09871de7ea53e67409",
       "tabbable": null,
       "tooltip": null,
       "value": 48.0
      }
     },
     "2bde9484ba6c4bfea04e5fb22a0bc5cd": {
      "model_module": "@jupyter-widgets/controls",
      "model_module_version": "2.0.0",
      "model_name": "HBoxModel",
      "state": {
       "_dom_classes": [],
       "_model_module": "@jupyter-widgets/controls",
       "_model_module_version": "2.0.0",
       "_model_name": "HBoxModel",
       "_view_count": null,
       "_view_module": "@jupyter-widgets/controls",
       "_view_module_version": "2.0.0",
       "_view_name": "HBoxView",
       "box_style": "",
       "children": [
        "IPY_MODEL_9093bcbdbfd0485597bd1983b955d91e",
        "IPY_MODEL_bc7d6d68747146a39f17dc326aa38aa5",
        "IPY_MODEL_bb6ef6ed4d8e491d8df56075dabf87ad"
       ],
       "layout": "IPY_MODEL_2a11cc141b684ee5ae45b599b1ae0e76",
       "tabbable": null,
       "tooltip": null
      }
     },
     "2ea7c4b944fe4067afa82df5e7e1cd4d": {
      "model_module": "@jupyter-widgets/controls",
      "model_module_version": "2.0.0",
      "model_name": "HTMLModel",
      "state": {
       "_dom_classes": [],
       "_model_module": "@jupyter-widgets/controls",
       "_model_module_version": "2.0.0",
       "_model_name": "HTMLModel",
       "_view_count": null,
       "_view_module": "@jupyter-widgets/controls",
       "_view_module_version": "2.0.0",
       "_view_name": "HTMLView",
       "description": "",
       "description_allow_html": false,
       "layout": "IPY_MODEL_0744589d2f6945a7b5c98b3581b8959d",
       "placeholder": "​",
       "style": "IPY_MODEL_493798a603cb4b3b8b6c79cce8cb9ece",
       "tabbable": null,
       "tooltip": null,
       "value": "tokenizer_config.json: 100%"
      }
     },
     "2ff9db3a4a9e43afaf37a3f6d81a74bf": {
      "model_module": "@jupyter-widgets/controls",
      "model_module_version": "2.0.0",
      "model_name": "HTMLModel",
      "state": {
       "_dom_classes": [],
       "_model_module": "@jupyter-widgets/controls",
       "_model_module_version": "2.0.0",
       "_model_name": "HTMLModel",
       "_view_count": null,
       "_view_module": "@jupyter-widgets/controls",
       "_view_module_version": "2.0.0",
       "_view_name": "HTMLView",
       "description": "",
       "description_allow_html": false,
       "layout": "IPY_MODEL_d7c71eb9baa540ec843d08a12c990496",
       "placeholder": "​",
       "style": "IPY_MODEL_9e8fe7e3288742838e9b0c285068a931",
       "tabbable": null,
       "tooltip": null,
       "value": "config.json: 100%"
      }
     },
     "34ef6b070592496090696cbd1d9d1635": {
      "model_module": "@jupyter-widgets/controls",
      "model_module_version": "2.0.0",
      "model_name": "HTMLModel",
      "state": {
       "_dom_classes": [],
       "_model_module": "@jupyter-widgets/controls",
       "_model_module_version": "2.0.0",
       "_model_name": "HTMLModel",
       "_view_count": null,
       "_view_module": "@jupyter-widgets/controls",
       "_view_module_version": "2.0.0",
       "_view_name": "HTMLView",
       "description": "",
       "description_allow_html": false,
       "layout": "IPY_MODEL_166d9569f87c42d38173ebaffed3f5f7",
       "placeholder": "​",
       "style": "IPY_MODEL_15f38eedb3a24506941c67ad28facf17",
       "tabbable": null,
       "tooltip": null,
       "value": " 48.0/48.0 [00:00&lt;00:00, 4.83kB/s]"
      }
     },
     "358360305d134b35b6d0373dffbaf99f": {
      "model_module": "@jupyter-widgets/controls",
      "model_module_version": "2.0.0",
      "model_name": "ProgressStyleModel",
      "state": {
       "_model_module": "@jupyter-widgets/controls",
       "_model_module_version": "2.0.0",
       "_model_name": "ProgressStyleModel",
       "_view_count": null,
       "_view_module": "@jupyter-widgets/base",
       "_view_module_version": "2.0.0",
       "_view_name": "StyleView",
       "bar_color": null,
       "description_width": ""
      }
     },
     "376e79ccdd404aaea545b4a888afe24f": {
      "model_module": "@jupyter-widgets/controls",
      "model_module_version": "2.0.0",
      "model_name": "HTMLModel",
      "state": {
       "_dom_classes": [],
       "_model_module": "@jupyter-widgets/controls",
       "_model_module_version": "2.0.0",
       "_model_name": "HTMLModel",
       "_view_count": null,
       "_view_module": "@jupyter-widgets/controls",
       "_view_module_version": "2.0.0",
       "_view_name": "HTMLView",
       "description": "",
       "description_allow_html": false,
       "layout": "IPY_MODEL_9adb8fb17314484ea37d0e6e0acc4c5c",
       "placeholder": "​",
       "style": "IPY_MODEL_4ec59c8935c44e49824d0463120ab652",
       "tabbable": null,
       "tooltip": null,
       "value": "model.safetensors: 100%"
      }
     },
     "43ee57a88bda4cb5bf9a08f9b44eee5e": {
      "model_module": "@jupyter-widgets/controls",
      "model_module_version": "2.0.0",
      "model_name": "FloatProgressModel",
      "state": {
       "_dom_classes": [],
       "_model_module": "@jupyter-widgets/controls",
       "_model_module_version": "2.0.0",
       "_model_name": "FloatProgressModel",
       "_view_count": null,
       "_view_module": "@jupyter-widgets/controls",
       "_view_module_version": "2.0.0",
       "_view_name": "ProgressView",
       "bar_style": "success",
       "description": "",
       "description_allow_html": false,
       "layout": "IPY_MODEL_fa0b677e3e65489ba3828af84315f68b",
       "max": 231508.0,
       "min": 0.0,
       "orientation": "horizontal",
       "style": "IPY_MODEL_4ad4157d4428476784525cc837249227",
       "tabbable": null,
       "tooltip": null,
       "value": 231508.0
      }
     },
     "493798a603cb4b3b8b6c79cce8cb9ece": {
      "model_module": "@jupyter-widgets/controls",
      "model_module_version": "2.0.0",
      "model_name": "HTMLStyleModel",
      "state": {
       "_model_module": "@jupyter-widgets/controls",
       "_model_module_version": "2.0.0",
       "_model_name": "HTMLStyleModel",
       "_view_count": null,
       "_view_module": "@jupyter-widgets/base",
       "_view_module_version": "2.0.0",
       "_view_name": "StyleView",
       "background": null,
       "description_width": "",
       "font_size": null,
       "text_color": null
      }
     },
     "4ad4157d4428476784525cc837249227": {
      "model_module": "@jupyter-widgets/controls",
      "model_module_version": "2.0.0",
      "model_name": "ProgressStyleModel",
      "state": {
       "_model_module": "@jupyter-widgets/controls",
       "_model_module_version": "2.0.0",
       "_model_name": "ProgressStyleModel",
       "_view_count": null,
       "_view_module": "@jupyter-widgets/base",
       "_view_module_version": "2.0.0",
       "_view_name": "StyleView",
       "bar_color": null,
       "description_width": ""
      }
     },
     "4b1283112f26402392a4334f7a39e00e": {
      "model_module": "@jupyter-widgets/controls",
      "model_module_version": "2.0.0",
      "model_name": "HBoxModel",
      "state": {
       "_dom_classes": [],
       "_model_module": "@jupyter-widgets/controls",
       "_model_module_version": "2.0.0",
       "_model_name": "HBoxModel",
       "_view_count": null,
       "_view_module": "@jupyter-widgets/controls",
       "_view_module_version": "2.0.0",
       "_view_name": "HBoxView",
       "box_style": "",
       "children": [
        "IPY_MODEL_2ff9db3a4a9e43afaf37a3f6d81a74bf",
        "IPY_MODEL_fab2dd68c8044f69a539939e73838fb7",
        "IPY_MODEL_f05d4a6c5d674470921aa615316dcd1c"
       ],
       "layout": "IPY_MODEL_4b7281f6811142f7a630637aaced0fe7",
       "tabbable": null,
       "tooltip": null
      }
     },
     "4b7281f6811142f7a630637aaced0fe7": {
      "model_module": "@jupyter-widgets/base",
      "model_module_version": "2.0.0",
      "model_name": "LayoutModel",
      "state": {
       "_model_module": "@jupyter-widgets/base",
       "_model_module_version": "2.0.0",
       "_model_name": "LayoutModel",
       "_view_count": null,
       "_view_module": "@jupyter-widgets/base",
       "_view_module_version": "2.0.0",
       "_view_name": "LayoutView",
       "align_content": null,
       "align_items": null,
       "align_self": null,
       "border_bottom": null,
       "border_left": null,
       "border_right": null,
       "border_top": null,
       "bottom": null,
       "display": null,
       "flex": null,
       "flex_flow": null,
       "grid_area": null,
       "grid_auto_columns": null,
       "grid_auto_flow": null,
       "grid_auto_rows": null,
       "grid_column": null,
       "grid_gap": null,
       "grid_row": null,
       "grid_template_areas": null,
       "grid_template_columns": null,
       "grid_template_rows": null,
       "height": null,
       "justify_content": null,
       "justify_items": null,
       "left": null,
       "margin": null,
       "max_height": null,
       "max_width": null,
       "min_height": null,
       "min_width": null,
       "object_fit": null,
       "object_position": null,
       "order": null,
       "overflow": null,
       "padding": null,
       "right": null,
       "top": null,
       "visibility": null,
       "width": null
      }
     },
     "4ec59c8935c44e49824d0463120ab652": {
      "model_module": "@jupyter-widgets/controls",
      "model_module_version": "2.0.0",
      "model_name": "HTMLStyleModel",
      "state": {
       "_model_module": "@jupyter-widgets/controls",
       "_model_module_version": "2.0.0",
       "_model_name": "HTMLStyleModel",
       "_view_count": null,
       "_view_module": "@jupyter-widgets/base",
       "_view_module_version": "2.0.0",
       "_view_name": "StyleView",
       "background": null,
       "description_width": "",
       "font_size": null,
       "text_color": null
      }
     },
     "50f69749fd244a129a7ec84fed61c151": {
      "model_module": "@jupyter-widgets/base",
      "model_module_version": "2.0.0",
      "model_name": "LayoutModel",
      "state": {
       "_model_module": "@jupyter-widgets/base",
       "_model_module_version": "2.0.0",
       "_model_name": "LayoutModel",
       "_view_count": null,
       "_view_module": "@jupyter-widgets/base",
       "_view_module_version": "2.0.0",
       "_view_name": "LayoutView",
       "align_content": null,
       "align_items": null,
       "align_self": null,
       "border_bottom": null,
       "border_left": null,
       "border_right": null,
       "border_top": null,
       "bottom": null,
       "display": null,
       "flex": null,
       "flex_flow": null,
       "grid_area": null,
       "grid_auto_columns": null,
       "grid_auto_flow": null,
       "grid_auto_rows": null,
       "grid_column": null,
       "grid_gap": null,
       "grid_row": null,
       "grid_template_areas": null,
       "grid_template_columns": null,
       "grid_template_rows": null,
       "height": null,
       "justify_content": null,
       "justify_items": null,
       "left": null,
       "margin": null,
       "max_height": null,
       "max_width": null,
       "min_height": null,
       "min_width": null,
       "object_fit": null,
       "object_position": null,
       "order": null,
       "overflow": null,
       "padding": null,
       "right": null,
       "top": null,
       "visibility": null,
       "width": null
      }
     },
     "5904eb1a5fc54c7bafe615941ceb421e": {
      "model_module": "@jupyter-widgets/controls",
      "model_module_version": "2.0.0",
      "model_name": "HBoxModel",
      "state": {
       "_dom_classes": [],
       "_model_module": "@jupyter-widgets/controls",
       "_model_module_version": "2.0.0",
       "_model_name": "HBoxModel",
       "_view_count": null,
       "_view_module": "@jupyter-widgets/controls",
       "_view_module_version": "2.0.0",
       "_view_name": "HBoxView",
       "box_style": "",
       "children": [
        "IPY_MODEL_7efb612fce7d4cc8b5479443d3e027bc",
        "IPY_MODEL_43ee57a88bda4cb5bf9a08f9b44eee5e",
        "IPY_MODEL_772aabec43fe44908b97a3342b6a9948"
       ],
       "layout": "IPY_MODEL_01749ca2a0454d0cb711b11e75066710",
       "tabbable": null,
       "tooltip": null
      }
     },
     "5bb5ee4e6bc840ea9f882d590f2a0fae": {
      "model_module": "@jupyter-widgets/controls",
      "model_module_version": "2.0.0",
      "model_name": "FloatProgressModel",
      "state": {
       "_dom_classes": [],
       "_model_module": "@jupyter-widgets/controls",
       "_model_module_version": "2.0.0",
       "_model_name": "FloatProgressModel",
       "_view_count": null,
       "_view_module": "@jupyter-widgets/controls",
       "_view_module_version": "2.0.0",
       "_view_name": "ProgressView",
       "bar_style": "success",
       "description": "",
       "description_allow_html": false,
       "layout": "IPY_MODEL_8e17baa864dd4271904a52f5d9cfbe7c",
       "max": 440449768.0,
       "min": 0.0,
       "orientation": "horizontal",
       "style": "IPY_MODEL_0c5fde16b6a74e7d9cebb25c4261e6d4",
       "tabbable": null,
       "tooltip": null,
       "value": 440449768.0
      }
     },
     "6b8a659d28b44a14bb917c16611895b4": {
      "model_module": "@jupyter-widgets/base",
      "model_module_version": "2.0.0",
      "model_name": "LayoutModel",
      "state": {
       "_model_module": "@jupyter-widgets/base",
       "_model_module_version": "2.0.0",
       "_model_name": "LayoutModel",
       "_view_count": null,
       "_view_module": "@jupyter-widgets/base",
       "_view_module_version": "2.0.0",
       "_view_name": "LayoutView",
       "align_content": null,
       "align_items": null,
       "align_self": null,
       "border_bottom": null,
       "border_left": null,
       "border_right": null,
       "border_top": null,
       "bottom": null,
       "display": null,
       "flex": null,
       "flex_flow": null,
       "grid_area": null,
       "grid_auto_columns": null,
       "grid_auto_flow": null,
       "grid_auto_rows": null,
       "grid_column": null,
       "grid_gap": null,
       "grid_row": null,
       "grid_template_areas": null,
       "grid_template_columns": null,
       "grid_template_rows": null,
       "height": null,
       "justify_content": null,
       "justify_items": null,
       "left": null,
       "margin": null,
       "max_height": null,
       "max_width": null,
       "min_height": null,
       "min_width": null,
       "object_fit": null,
       "object_position": null,
       "order": null,
       "overflow": null,
       "padding": null,
       "right": null,
       "top": null,
       "visibility": null,
       "width": null
      }
     },
     "6f8fd618cd804dd6aeec41d412967750": {
      "model_module": "@jupyter-widgets/controls",
      "model_module_version": "2.0.0",
      "model_name": "HTMLStyleModel",
      "state": {
       "_model_module": "@jupyter-widgets/controls",
       "_model_module_version": "2.0.0",
       "_model_name": "HTMLStyleModel",
       "_view_count": null,
       "_view_module": "@jupyter-widgets/base",
       "_view_module_version": "2.0.0",
       "_view_name": "StyleView",
       "background": null,
       "description_width": "",
       "font_size": null,
       "text_color": null
      }
     },
     "772aabec43fe44908b97a3342b6a9948": {
      "model_module": "@jupyter-widgets/controls",
      "model_module_version": "2.0.0",
      "model_name": "HTMLModel",
      "state": {
       "_dom_classes": [],
       "_model_module": "@jupyter-widgets/controls",
       "_model_module_version": "2.0.0",
       "_model_name": "HTMLModel",
       "_view_count": null,
       "_view_module": "@jupyter-widgets/controls",
       "_view_module_version": "2.0.0",
       "_view_name": "HTMLView",
       "description": "",
       "description_allow_html": false,
       "layout": "IPY_MODEL_05ffc6c0640c4911881be0a326f2750d",
       "placeholder": "​",
       "style": "IPY_MODEL_080d136b0dbb449588902c2491a61400",
       "tabbable": null,
       "tooltip": null,
       "value": " 232k/232k [00:00&lt;00:00, 1.43MB/s]"
      }
     },
     "7efb612fce7d4cc8b5479443d3e027bc": {
      "model_module": "@jupyter-widgets/controls",
      "model_module_version": "2.0.0",
      "model_name": "HTMLModel",
      "state": {
       "_dom_classes": [],
       "_model_module": "@jupyter-widgets/controls",
       "_model_module_version": "2.0.0",
       "_model_name": "HTMLModel",
       "_view_count": null,
       "_view_module": "@jupyter-widgets/controls",
       "_view_module_version": "2.0.0",
       "_view_name": "HTMLView",
       "description": "",
       "description_allow_html": false,
       "layout": "IPY_MODEL_50f69749fd244a129a7ec84fed61c151",
       "placeholder": "​",
       "style": "IPY_MODEL_898842365b7d483bab333cd3b08a18c6",
       "tabbable": null,
       "tooltip": null,
       "value": "vocab.txt: 100%"
      }
     },
     "8300e130d5d04a47a36d9f836bb4c511": {
      "model_module": "@jupyter-widgets/base",
      "model_module_version": "2.0.0",
      "model_name": "LayoutModel",
      "state": {
       "_model_module": "@jupyter-widgets/base",
       "_model_module_version": "2.0.0",
       "_model_name": "LayoutModel",
       "_view_count": null,
       "_view_module": "@jupyter-widgets/base",
       "_view_module_version": "2.0.0",
       "_view_name": "LayoutView",
       "align_content": null,
       "align_items": null,
       "align_self": null,
       "border_bottom": null,
       "border_left": null,
       "border_right": null,
       "border_top": null,
       "bottom": null,
       "display": null,
       "flex": null,
       "flex_flow": null,
       "grid_area": null,
       "grid_auto_columns": null,
       "grid_auto_flow": null,
       "grid_auto_rows": null,
       "grid_column": null,
       "grid_gap": null,
       "grid_row": null,
       "grid_template_areas": null,
       "grid_template_columns": null,
       "grid_template_rows": null,
       "height": null,
       "justify_content": null,
       "justify_items": null,
       "left": null,
       "margin": null,
       "max_height": null,
       "max_width": null,
       "min_height": null,
       "min_width": null,
       "object_fit": null,
       "object_position": null,
       "order": null,
       "overflow": null,
       "padding": null,
       "right": null,
       "top": null,
       "visibility": null,
       "width": null
      }
     },
     "898842365b7d483bab333cd3b08a18c6": {
      "model_module": "@jupyter-widgets/controls",
      "model_module_version": "2.0.0",
      "model_name": "HTMLStyleModel",
      "state": {
       "_model_module": "@jupyter-widgets/controls",
       "_model_module_version": "2.0.0",
       "_model_name": "HTMLStyleModel",
       "_view_count": null,
       "_view_module": "@jupyter-widgets/base",
       "_view_module_version": "2.0.0",
       "_view_name": "StyleView",
       "background": null,
       "description_width": "",
       "font_size": null,
       "text_color": null
      }
     },
     "8e17baa864dd4271904a52f5d9cfbe7c": {
      "model_module": "@jupyter-widgets/base",
      "model_module_version": "2.0.0",
      "model_name": "LayoutModel",
      "state": {
       "_model_module": "@jupyter-widgets/base",
       "_model_module_version": "2.0.0",
       "_model_name": "LayoutModel",
       "_view_count": null,
       "_view_module": "@jupyter-widgets/base",
       "_view_module_version": "2.0.0",
       "_view_name": "LayoutView",
       "align_content": null,
       "align_items": null,
       "align_self": null,
       "border_bottom": null,
       "border_left": null,
       "border_right": null,
       "border_top": null,
       "bottom": null,
       "display": null,
       "flex": null,
       "flex_flow": null,
       "grid_area": null,
       "grid_auto_columns": null,
       "grid_auto_flow": null,
       "grid_auto_rows": null,
       "grid_column": null,
       "grid_gap": null,
       "grid_row": null,
       "grid_template_areas": null,
       "grid_template_columns": null,
       "grid_template_rows": null,
       "height": null,
       "justify_content": null,
       "justify_items": null,
       "left": null,
       "margin": null,
       "max_height": null,
       "max_width": null,
       "min_height": null,
       "min_width": null,
       "object_fit": null,
       "object_position": null,
       "order": null,
       "overflow": null,
       "padding": null,
       "right": null,
       "top": null,
       "visibility": null,
       "width": null
      }
     },
     "9093bcbdbfd0485597bd1983b955d91e": {
      "model_module": "@jupyter-widgets/controls",
      "model_module_version": "2.0.0",
      "model_name": "HTMLModel",
      "state": {
       "_dom_classes": [],
       "_model_module": "@jupyter-widgets/controls",
       "_model_module_version": "2.0.0",
       "_model_name": "HTMLModel",
       "_view_count": null,
       "_view_module": "@jupyter-widgets/controls",
       "_view_module_version": "2.0.0",
       "_view_name": "HTMLView",
       "description": "",
       "description_allow_html": false,
       "layout": "IPY_MODEL_6b8a659d28b44a14bb917c16611895b4",
       "placeholder": "​",
       "style": "IPY_MODEL_1136d4539a4947b681f79dfa60fd8a18",
       "tabbable": null,
       "tooltip": null,
       "value": "tokenizer.json: 100%"
      }
     },
     "9adb8fb17314484ea37d0e6e0acc4c5c": {
      "model_module": "@jupyter-widgets/base",
      "model_module_version": "2.0.0",
      "model_name": "LayoutModel",
      "state": {
       "_model_module": "@jupyter-widgets/base",
       "_model_module_version": "2.0.0",
       "_model_name": "LayoutModel",
       "_view_count": null,
       "_view_module": "@jupyter-widgets/base",
       "_view_module_version": "2.0.0",
       "_view_name": "LayoutView",
       "align_content": null,
       "align_items": null,
       "align_self": null,
       "border_bottom": null,
       "border_left": null,
       "border_right": null,
       "border_top": null,
       "bottom": null,
       "display": null,
       "flex": null,
       "flex_flow": null,
       "grid_area": null,
       "grid_auto_columns": null,
       "grid_auto_flow": null,
       "grid_auto_rows": null,
       "grid_column": null,
       "grid_gap": null,
       "grid_row": null,
       "grid_template_areas": null,
       "grid_template_columns": null,
       "grid_template_rows": null,
       "height": null,
       "justify_content": null,
       "justify_items": null,
       "left": null,
       "margin": null,
       "max_height": null,
       "max_width": null,
       "min_height": null,
       "min_width": null,
       "object_fit": null,
       "object_position": null,
       "order": null,
       "overflow": null,
       "padding": null,
       "right": null,
       "top": null,
       "visibility": null,
       "width": null
      }
     },
     "9e8fe7e3288742838e9b0c285068a931": {
      "model_module": "@jupyter-widgets/controls",
      "model_module_version": "2.0.0",
      "model_name": "HTMLStyleModel",
      "state": {
       "_model_module": "@jupyter-widgets/controls",
       "_model_module_version": "2.0.0",
       "_model_name": "HTMLStyleModel",
       "_view_count": null,
       "_view_module": "@jupyter-widgets/base",
       "_view_module_version": "2.0.0",
       "_view_name": "StyleView",
       "background": null,
       "description_width": "",
       "font_size": null,
       "text_color": null
      }
     },
     "a5e6b358eb0c421997d23ed8bf69b8f1": {
      "model_module": "@jupyter-widgets/controls",
      "model_module_version": "2.0.0",
      "model_name": "ProgressStyleModel",
      "state": {
       "_model_module": "@jupyter-widgets/controls",
       "_model_module_version": "2.0.0",
       "_model_name": "ProgressStyleModel",
       "_view_count": null,
       "_view_module": "@jupyter-widgets/base",
       "_view_module_version": "2.0.0",
       "_view_name": "StyleView",
       "bar_color": null,
       "description_width": ""
      }
     },
     "bb6ef6ed4d8e491d8df56075dabf87ad": {
      "model_module": "@jupyter-widgets/controls",
      "model_module_version": "2.0.0",
      "model_name": "HTMLModel",
      "state": {
       "_dom_classes": [],
       "_model_module": "@jupyter-widgets/controls",
       "_model_module_version": "2.0.0",
       "_model_name": "HTMLModel",
       "_view_count": null,
       "_view_module": "@jupyter-widgets/controls",
       "_view_module_version": "2.0.0",
       "_view_name": "HTMLView",
       "description": "",
       "description_allow_html": false,
       "layout": "IPY_MODEL_ced79328a4d544fda8f5a206429870fb",
       "placeholder": "​",
       "style": "IPY_MODEL_d1f7fa42342742768cae64b2fbae140b",
       "tabbable": null,
       "tooltip": null,
       "value": " 466k/466k [00:00&lt;00:00, 2.81MB/s]"
      }
     },
     "bc7d6d68747146a39f17dc326aa38aa5": {
      "model_module": "@jupyter-widgets/controls",
      "model_module_version": "2.0.0",
      "model_name": "FloatProgressModel",
      "state": {
       "_dom_classes": [],
       "_model_module": "@jupyter-widgets/controls",
       "_model_module_version": "2.0.0",
       "_model_name": "FloatProgressModel",
       "_view_count": null,
       "_view_module": "@jupyter-widgets/controls",
       "_view_module_version": "2.0.0",
       "_view_name": "ProgressView",
       "bar_style": "success",
       "description": "",
       "description_allow_html": false,
       "layout": "IPY_MODEL_e74c75c2de8d446dbe29a5b696d9faa3",
       "max": 466062.0,
       "min": 0.0,
       "orientation": "horizontal",
       "style": "IPY_MODEL_a5e6b358eb0c421997d23ed8bf69b8f1",
       "tabbable": null,
       "tooltip": null,
       "value": 466062.0
      }
     },
     "c3d77971b4e94a09871de7ea53e67409": {
      "model_module": "@jupyter-widgets/controls",
      "model_module_version": "2.0.0",
      "model_name": "ProgressStyleModel",
      "state": {
       "_model_module": "@jupyter-widgets/controls",
       "_model_module_version": "2.0.0",
       "_model_name": "ProgressStyleModel",
       "_view_count": null,
       "_view_module": "@jupyter-widgets/base",
       "_view_module_version": "2.0.0",
       "_view_name": "StyleView",
       "bar_color": null,
       "description_width": ""
      }
     },
     "ced79328a4d544fda8f5a206429870fb": {
      "model_module": "@jupyter-widgets/base",
      "model_module_version": "2.0.0",
      "model_name": "LayoutModel",
      "state": {
       "_model_module": "@jupyter-widgets/base",
       "_model_module_version": "2.0.0",
       "_model_name": "LayoutModel",
       "_view_count": null,
       "_view_module": "@jupyter-widgets/base",
       "_view_module_version": "2.0.0",
       "_view_name": "LayoutView",
       "align_content": null,
       "align_items": null,
       "align_self": null,
       "border_bottom": null,
       "border_left": null,
       "border_right": null,
       "border_top": null,
       "bottom": null,
       "display": null,
       "flex": null,
       "flex_flow": null,
       "grid_area": null,
       "grid_auto_columns": null,
       "grid_auto_flow": null,
       "grid_auto_rows": null,
       "grid_column": null,
       "grid_gap": null,
       "grid_row": null,
       "grid_template_areas": null,
       "grid_template_columns": null,
       "grid_template_rows": null,
       "height": null,
       "justify_content": null,
       "justify_items": null,
       "left": null,
       "margin": null,
       "max_height": null,
       "max_width": null,
       "min_height": null,
       "min_width": null,
       "object_fit": null,
       "object_position": null,
       "order": null,
       "overflow": null,
       "padding": null,
       "right": null,
       "top": null,
       "visibility": null,
       "width": null
      }
     },
     "d1f7fa42342742768cae64b2fbae140b": {
      "model_module": "@jupyter-widgets/controls",
      "model_module_version": "2.0.0",
      "model_name": "HTMLStyleModel",
      "state": {
       "_model_module": "@jupyter-widgets/controls",
       "_model_module_version": "2.0.0",
       "_model_name": "HTMLStyleModel",
       "_view_count": null,
       "_view_module": "@jupyter-widgets/base",
       "_view_module_version": "2.0.0",
       "_view_name": "StyleView",
       "background": null,
       "description_width": "",
       "font_size": null,
       "text_color": null
      }
     },
     "d7c71eb9baa540ec843d08a12c990496": {
      "model_module": "@jupyter-widgets/base",
      "model_module_version": "2.0.0",
      "model_name": "LayoutModel",
      "state": {
       "_model_module": "@jupyter-widgets/base",
       "_model_module_version": "2.0.0",
       "_model_name": "LayoutModel",
       "_view_count": null,
       "_view_module": "@jupyter-widgets/base",
       "_view_module_version": "2.0.0",
       "_view_name": "LayoutView",
       "align_content": null,
       "align_items": null,
       "align_self": null,
       "border_bottom": null,
       "border_left": null,
       "border_right": null,
       "border_top": null,
       "bottom": null,
       "display": null,
       "flex": null,
       "flex_flow": null,
       "grid_area": null,
       "grid_auto_columns": null,
       "grid_auto_flow": null,
       "grid_auto_rows": null,
       "grid_column": null,
       "grid_gap": null,
       "grid_row": null,
       "grid_template_areas": null,
       "grid_template_columns": null,
       "grid_template_rows": null,
       "height": null,
       "justify_content": null,
       "justify_items": null,
       "left": null,
       "margin": null,
       "max_height": null,
       "max_width": null,
       "min_height": null,
       "min_width": null,
       "object_fit": null,
       "object_position": null,
       "order": null,
       "overflow": null,
       "padding": null,
       "right": null,
       "top": null,
       "visibility": null,
       "width": null
      }
     },
     "db9f3b451f1d4081af4c6f2e7e4422ca": {
      "model_module": "@jupyter-widgets/controls",
      "model_module_version": "2.0.0",
      "model_name": "HBoxModel",
      "state": {
       "_dom_classes": [],
       "_model_module": "@jupyter-widgets/controls",
       "_model_module_version": "2.0.0",
       "_model_name": "HBoxModel",
       "_view_count": null,
       "_view_module": "@jupyter-widgets/controls",
       "_view_module_version": "2.0.0",
       "_view_name": "HBoxView",
       "box_style": "",
       "children": [
        "IPY_MODEL_2ea7c4b944fe4067afa82df5e7e1cd4d",
        "IPY_MODEL_2ae5b8befbc24ea5b0113732f559de9c",
        "IPY_MODEL_34ef6b070592496090696cbd1d9d1635"
       ],
       "layout": "IPY_MODEL_fb151543023c4636b72fb6a6d09628c7",
       "tabbable": null,
       "tooltip": null
      }
     },
     "e05151addf6c4cfba0107423f29f568b": {
      "model_module": "@jupyter-widgets/base",
      "model_module_version": "2.0.0",
      "model_name": "LayoutModel",
      "state": {
       "_model_module": "@jupyter-widgets/base",
       "_model_module_version": "2.0.0",
       "_model_name": "LayoutModel",
       "_view_count": null,
       "_view_module": "@jupyter-widgets/base",
       "_view_module_version": "2.0.0",
       "_view_name": "LayoutView",
       "align_content": null,
       "align_items": null,
       "align_self": null,
       "border_bottom": null,
       "border_left": null,
       "border_right": null,
       "border_top": null,
       "bottom": null,
       "display": null,
       "flex": null,
       "flex_flow": null,
       "grid_area": null,
       "grid_auto_columns": null,
       "grid_auto_flow": null,
       "grid_auto_rows": null,
       "grid_column": null,
       "grid_gap": null,
       "grid_row": null,
       "grid_template_areas": null,
       "grid_template_columns": null,
       "grid_template_rows": null,
       "height": null,
       "justify_content": null,
       "justify_items": null,
       "left": null,
       "margin": null,
       "max_height": null,
       "max_width": null,
       "min_height": null,
       "min_width": null,
       "object_fit": null,
       "object_position": null,
       "order": null,
       "overflow": null,
       "padding": null,
       "right": null,
       "top": null,
       "visibility": null,
       "width": null
      }
     },
     "e74c75c2de8d446dbe29a5b696d9faa3": {
      "model_module": "@jupyter-widgets/base",
      "model_module_version": "2.0.0",
      "model_name": "LayoutModel",
      "state": {
       "_model_module": "@jupyter-widgets/base",
       "_model_module_version": "2.0.0",
       "_model_name": "LayoutModel",
       "_view_count": null,
       "_view_module": "@jupyter-widgets/base",
       "_view_module_version": "2.0.0",
       "_view_name": "LayoutView",
       "align_content": null,
       "align_items": null,
       "align_self": null,
       "border_bottom": null,
       "border_left": null,
       "border_right": null,
       "border_top": null,
       "bottom": null,
       "display": null,
       "flex": null,
       "flex_flow": null,
       "grid_area": null,
       "grid_auto_columns": null,
       "grid_auto_flow": null,
       "grid_auto_rows": null,
       "grid_column": null,
       "grid_gap": null,
       "grid_row": null,
       "grid_template_areas": null,
       "grid_template_columns": null,
       "grid_template_rows": null,
       "height": null,
       "justify_content": null,
       "justify_items": null,
       "left": null,
       "margin": null,
       "max_height": null,
       "max_width": null,
       "min_height": null,
       "min_width": null,
       "object_fit": null,
       "object_position": null,
       "order": null,
       "overflow": null,
       "padding": null,
       "right": null,
       "top": null,
       "visibility": null,
       "width": null
      }
     },
     "e84c713e5fa44526be5e4bf845d55783": {
      "model_module": "@jupyter-widgets/base",
      "model_module_version": "2.0.0",
      "model_name": "LayoutModel",
      "state": {
       "_model_module": "@jupyter-widgets/base",
       "_model_module_version": "2.0.0",
       "_model_name": "LayoutModel",
       "_view_count": null,
       "_view_module": "@jupyter-widgets/base",
       "_view_module_version": "2.0.0",
       "_view_name": "LayoutView",
       "align_content": null,
       "align_items": null,
       "align_self": null,
       "border_bottom": null,
       "border_left": null,
       "border_right": null,
       "border_top": null,
       "bottom": null,
       "display": null,
       "flex": null,
       "flex_flow": null,
       "grid_area": null,
       "grid_auto_columns": null,
       "grid_auto_flow": null,
       "grid_auto_rows": null,
       "grid_column": null,
       "grid_gap": null,
       "grid_row": null,
       "grid_template_areas": null,
       "grid_template_columns": null,
       "grid_template_rows": null,
       "height": null,
       "justify_content": null,
       "justify_items": null,
       "left": null,
       "margin": null,
       "max_height": null,
       "max_width": null,
       "min_height": null,
       "min_width": null,
       "object_fit": null,
       "object_position": null,
       "order": null,
       "overflow": null,
       "padding": null,
       "right": null,
       "top": null,
       "visibility": null,
       "width": null
      }
     },
     "f05d4a6c5d674470921aa615316dcd1c": {
      "model_module": "@jupyter-widgets/controls",
      "model_module_version": "2.0.0",
      "model_name": "HTMLModel",
      "state": {
       "_dom_classes": [],
       "_model_module": "@jupyter-widgets/controls",
       "_model_module_version": "2.0.0",
       "_model_name": "HTMLModel",
       "_view_count": null,
       "_view_module": "@jupyter-widgets/controls",
       "_view_module_version": "2.0.0",
       "_view_name": "HTMLView",
       "description": "",
       "description_allow_html": false,
       "layout": "IPY_MODEL_05b72172feea486ab42867df0cc31bd3",
       "placeholder": "​",
       "style": "IPY_MODEL_6f8fd618cd804dd6aeec41d412967750",
       "tabbable": null,
       "tooltip": null,
       "value": " 570/570 [00:00&lt;00:00, 60.9kB/s]"
      }
     },
     "f63329a779a14f9b8e2530b12520cfae": {
      "model_module": "@jupyter-widgets/base",
      "model_module_version": "2.0.0",
      "model_name": "LayoutModel",
      "state": {
       "_model_module": "@jupyter-widgets/base",
       "_model_module_version": "2.0.0",
       "_model_name": "LayoutModel",
       "_view_count": null,
       "_view_module": "@jupyter-widgets/base",
       "_view_module_version": "2.0.0",
       "_view_name": "LayoutView",
       "align_content": null,
       "align_items": null,
       "align_self": null,
       "border_bottom": null,
       "border_left": null,
       "border_right": null,
       "border_top": null,
       "bottom": null,
       "display": null,
       "flex": null,
       "flex_flow": null,
       "grid_area": null,
       "grid_auto_columns": null,
       "grid_auto_flow": null,
       "grid_auto_rows": null,
       "grid_column": null,
       "grid_gap": null,
       "grid_row": null,
       "grid_template_areas": null,
       "grid_template_columns": null,
       "grid_template_rows": null,
       "height": null,
       "justify_content": null,
       "justify_items": null,
       "left": null,
       "margin": null,
       "max_height": null,
       "max_width": null,
       "min_height": null,
       "min_width": null,
       "object_fit": null,
       "object_position": null,
       "order": null,
       "overflow": null,
       "padding": null,
       "right": null,
       "top": null,
       "visibility": null,
       "width": null
      }
     },
     "fa0b677e3e65489ba3828af84315f68b": {
      "model_module": "@jupyter-widgets/base",
      "model_module_version": "2.0.0",
      "model_name": "LayoutModel",
      "state": {
       "_model_module": "@jupyter-widgets/base",
       "_model_module_version": "2.0.0",
       "_model_name": "LayoutModel",
       "_view_count": null,
       "_view_module": "@jupyter-widgets/base",
       "_view_module_version": "2.0.0",
       "_view_name": "LayoutView",
       "align_content": null,
       "align_items": null,
       "align_self": null,
       "border_bottom": null,
       "border_left": null,
       "border_right": null,
       "border_top": null,
       "bottom": null,
       "display": null,
       "flex": null,
       "flex_flow": null,
       "grid_area": null,
       "grid_auto_columns": null,
       "grid_auto_flow": null,
       "grid_auto_rows": null,
       "grid_column": null,
       "grid_gap": null,
       "grid_row": null,
       "grid_template_areas": null,
       "grid_template_columns": null,
       "grid_template_rows": null,
       "height": null,
       "justify_content": null,
       "justify_items": null,
       "left": null,
       "margin": null,
       "max_height": null,
       "max_width": null,
       "min_height": null,
       "min_width": null,
       "object_fit": null,
       "object_position": null,
       "order": null,
       "overflow": null,
       "padding": null,
       "right": null,
       "top": null,
       "visibility": null,
       "width": null
      }
     },
     "fab2dd68c8044f69a539939e73838fb7": {
      "model_module": "@jupyter-widgets/controls",
      "model_module_version": "2.0.0",
      "model_name": "FloatProgressModel",
      "state": {
       "_dom_classes": [],
       "_model_module": "@jupyter-widgets/controls",
       "_model_module_version": "2.0.0",
       "_model_name": "FloatProgressModel",
       "_view_count": null,
       "_view_module": "@jupyter-widgets/controls",
       "_view_module_version": "2.0.0",
       "_view_name": "ProgressView",
       "bar_style": "success",
       "description": "",
       "description_allow_html": false,
       "layout": "IPY_MODEL_8300e130d5d04a47a36d9f836bb4c511",
       "max": 570.0,
       "min": 0.0,
       "orientation": "horizontal",
       "style": "IPY_MODEL_358360305d134b35b6d0373dffbaf99f",
       "tabbable": null,
       "tooltip": null,
       "value": 570.0
      }
     },
     "fb151543023c4636b72fb6a6d09628c7": {
      "model_module": "@jupyter-widgets/base",
      "model_module_version": "2.0.0",
      "model_name": "LayoutModel",
      "state": {
       "_model_module": "@jupyter-widgets/base",
       "_model_module_version": "2.0.0",
       "_model_name": "LayoutModel",
       "_view_count": null,
       "_view_module": "@jupyter-widgets/base",
       "_view_module_version": "2.0.0",
       "_view_name": "LayoutView",
       "align_content": null,
       "align_items": null,
       "align_self": null,
       "border_bottom": null,
       "border_left": null,
       "border_right": null,
       "border_top": null,
       "bottom": null,
       "display": null,
       "flex": null,
       "flex_flow": null,
       "grid_area": null,
       "grid_auto_columns": null,
       "grid_auto_flow": null,
       "grid_auto_rows": null,
       "grid_column": null,
       "grid_gap": null,
       "grid_row": null,
       "grid_template_areas": null,
       "grid_template_columns": null,
       "grid_template_rows": null,
       "height": null,
       "justify_content": null,
       "justify_items": null,
       "left": null,
       "margin": null,
       "max_height": null,
       "max_width": null,
       "min_height": null,
       "min_width": null,
       "object_fit": null,
       "object_position": null,
       "order": null,
       "overflow": null,
       "padding": null,
       "right": null,
       "top": null,
       "visibility": null,
       "width": null
      }
     }
    },
    "version_major": 2,
    "version_minor": 0
   }
  }
 },
 "nbformat": 4,
 "nbformat_minor": 5
}
